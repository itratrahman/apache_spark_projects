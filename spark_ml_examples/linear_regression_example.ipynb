{
 "cells": [
  {
   "cell_type": "markdown",
   "metadata": {},
   "source": [
    "# REGRESSION EXAMPLE"
   ]
  },
  {
   "cell_type": "markdown",
   "metadata": {},
   "source": [
    "## 1. Import spark modules"
   ]
  },
  {
   "cell_type": "code",
   "execution_count": 1,
   "metadata": {
    "collapsed": true
   },
   "outputs": [],
   "source": [
    "from pyspark.sql import SparkSession\n",
    "from pyspark.sql import Row"
   ]
  },
  {
   "cell_type": "code",
   "execution_count": 2,
   "metadata": {
    "collapsed": true
   },
   "outputs": [],
   "source": [
    "spark = SparkSession\\\n",
    "        .builder\\\n",
    "        .appName(\"PythonPi\")\\\n",
    "        .getOrCreate()"
   ]
  },
  {
   "cell_type": "markdown",
   "metadata": {},
   "source": [
    "**Setup spark configuration and create a spark context**"
   ]
  },
  {
   "cell_type": "code",
   "execution_count": 3,
   "metadata": {
    "collapsed": true
   },
   "outputs": [],
   "source": [
    "sc = spark.sparkContext"
   ]
  },
  {
   "cell_type": "markdown",
   "metadata": {},
   "source": [
    "## 2. Load and inspect data"
   ]
  },
  {
   "cell_type": "markdown",
   "metadata": {},
   "source": [
    "**Load the csv file**"
   ]
  },
  {
   "cell_type": "code",
   "execution_count": 4,
   "metadata": {
    "collapsed": true
   },
   "outputs": [],
   "source": [
    "autoData = sc.textFile(\"./input/auto-miles-per-gallon.csv\")"
   ]
  },
  {
   "cell_type": "markdown",
   "metadata": {},
   "source": [
    "**Cache the RDD**"
   ]
  },
  {
   "cell_type": "code",
   "execution_count": 5,
   "metadata": {},
   "outputs": [
    {
     "data": {
      "text/plain": [
       "./input/auto-miles-per-gallon.csv MapPartitionsRDD[1] at textFile at <unknown>:0"
      ]
     },
     "execution_count": 5,
     "metadata": {},
     "output_type": "execute_result"
    }
   ],
   "source": [
    "autoData.cache()"
   ]
  },
  {
   "cell_type": "markdown",
   "metadata": {},
   "source": [
    "**Display the head**"
   ]
  },
  {
   "cell_type": "code",
   "execution_count": 6,
   "metadata": {},
   "outputs": [
    {
     "data": {
      "text/plain": [
       "['MPG,CYLINDERS,DISPLACEMENT,HORSEPOWER,WEIGHT,ACCELERATION,MODELYEAR,NAME',\n",
       " '18,8,307,130,3504,12,70,chevrolet chevelle malibu',\n",
       " '15,8,350,165,3693,11.5,70,buick skylark 320',\n",
       " '18,8,318,150,3436,11,70,plymouth satellite',\n",
       " '16,8,304,150,3433,12,70,amc rebel sst',\n",
       " '17,8,302,140,3449,10.5,70,ford torino',\n",
       " '15,8,429,198,4341,10,70,ford galaxie 500',\n",
       " '14,8,454,220,4354,9,70,chevrolet impala',\n",
       " '14,8,440,215,4312,8.5,70,plymouth fury iii',\n",
       " '14,8,455,225,4425,10,70,pontiac catalina']"
      ]
     },
     "execution_count": 6,
     "metadata": {},
     "output_type": "execute_result"
    }
   ],
   "source": [
    "autoData.take(10)"
   ]
  },
  {
   "cell_type": "markdown",
   "metadata": {},
   "source": [
    "## 3. Clean data"
   ]
  },
  {
   "cell_type": "markdown",
   "metadata": {},
   "source": [
    "**Remove the header line**"
   ]
  },
  {
   "cell_type": "code",
   "execution_count": 7,
   "metadata": {
    "collapsed": true
   },
   "outputs": [],
   "source": [
    "dataLines = autoData.filter(lambda x: \"CYLINDERS\" not in x)"
   ]
  },
  {
   "cell_type": "code",
   "execution_count": 8,
   "metadata": {},
   "outputs": [
    {
     "data": {
      "text/plain": [
       "['18,8,307,130,3504,12,70,chevrolet chevelle malibu',\n",
       " '15,8,350,165,3693,11.5,70,buick skylark 320',\n",
       " '18,8,318,150,3436,11,70,plymouth satellite',\n",
       " '16,8,304,150,3433,12,70,amc rebel sst',\n",
       " '17,8,302,140,3449,10.5,70,ford torino']"
      ]
     },
     "execution_count": 8,
     "metadata": {},
     "output_type": "execute_result"
    }
   ],
   "source": [
    "dataLines.take(5)"
   ]
  },
  {
   "cell_type": "code",
   "execution_count": 9,
   "metadata": {},
   "outputs": [
    {
     "data": {
      "text/plain": [
       "398"
      ]
     },
     "execution_count": 9,
     "metadata": {},
     "output_type": "execute_result"
    }
   ],
   "source": [
    "dataLines.count()"
   ]
  },
  {
   "cell_type": "markdown",
   "metadata": {},
   "source": [
    "### Clean up data using a function"
   ]
  },
  {
   "cell_type": "markdown",
   "metadata": {},
   "source": [
    "**Default value for missing HP**"
   ]
  },
  {
   "cell_type": "code",
   "execution_count": 10,
   "metadata": {
    "collapsed": true
   },
   "outputs": [],
   "source": [
    "avgHP = sc.broadcast(80.0)"
   ]
  },
  {
   "cell_type": "markdown",
   "metadata": {},
   "source": [
    "**Function to cleanup data**"
   ]
  },
  {
   "cell_type": "code",
   "execution_count": 11,
   "metadata": {},
   "outputs": [],
   "source": [
    "def CleanupData(inputStr):\n",
    "    \n",
    "    global avgHP\n",
    "    attList = inputStr.split(\",\")\n",
    "    \n",
    "    # replace missing HP value with default HP value \n",
    "    hpValue = attList[3]\n",
    "    if hpValue == \"?\":\n",
    "        hpValue = avgHP.value\n",
    "        \n",
    "    # create a row with cleaned up and converted data\n",
    "    values = Row(MPG = float(attList[0]),\\\n",
    "                 CYLINDERS=float(attList[1]),\\\n",
    "                 DISPLACEMENT = float(attList[2]),\\\n",
    "                 HORSEPOWER = float(hpValue),\\\n",
    "                 WEIGHT = float(attList[4]),\\\n",
    "                 ACCELERATION = float(attList[5]),\\\n",
    "                 MODELYEAR = float(attList[6]),\\\n",
    "                 NAME = attList[7])\n",
    "    \n",
    "    return values"
   ]
  },
  {
   "cell_type": "markdown",
   "metadata": {},
   "source": [
    "**Clean up usig map**"
   ]
  },
  {
   "cell_type": "code",
   "execution_count": 12,
   "metadata": {
    "collapsed": true
   },
   "outputs": [],
   "source": [
    "autoMap = dataLines.map(CleanupData)"
   ]
  },
  {
   "cell_type": "code",
   "execution_count": 13,
   "metadata": {},
   "outputs": [
    {
     "data": {
      "text/plain": [
       "PythonRDD[5] at RDD at PythonRDD.scala:48"
      ]
     },
     "execution_count": 13,
     "metadata": {},
     "output_type": "execute_result"
    }
   ],
   "source": [
    "autoMap.cache()"
   ]
  },
  {
   "cell_type": "code",
   "execution_count": 14,
   "metadata": {},
   "outputs": [
    {
     "data": {
      "text/plain": [
       "[Row(ACCELERATION=12.0, CYLINDERS=8.0, DISPLACEMENT=307.0, HORSEPOWER=130.0, MODELYEAR=70.0, MPG=18.0, NAME='chevrolet chevelle malibu', WEIGHT=3504.0),\n",
       " Row(ACCELERATION=11.5, CYLINDERS=8.0, DISPLACEMENT=350.0, HORSEPOWER=165.0, MODELYEAR=70.0, MPG=15.0, NAME='buick skylark 320', WEIGHT=3693.0),\n",
       " Row(ACCELERATION=11.0, CYLINDERS=8.0, DISPLACEMENT=318.0, HORSEPOWER=150.0, MODELYEAR=70.0, MPG=18.0, NAME='plymouth satellite', WEIGHT=3436.0),\n",
       " Row(ACCELERATION=12.0, CYLINDERS=8.0, DISPLACEMENT=304.0, HORSEPOWER=150.0, MODELYEAR=70.0, MPG=16.0, NAME='amc rebel sst', WEIGHT=3433.0),\n",
       " Row(ACCELERATION=10.5, CYLINDERS=8.0, DISPLACEMENT=302.0, HORSEPOWER=140.0, MODELYEAR=70.0, MPG=17.0, NAME='ford torino', WEIGHT=3449.0),\n",
       " Row(ACCELERATION=10.0, CYLINDERS=8.0, DISPLACEMENT=429.0, HORSEPOWER=198.0, MODELYEAR=70.0, MPG=15.0, NAME='ford galaxie 500', WEIGHT=4341.0),\n",
       " Row(ACCELERATION=9.0, CYLINDERS=8.0, DISPLACEMENT=454.0, HORSEPOWER=220.0, MODELYEAR=70.0, MPG=14.0, NAME='chevrolet impala', WEIGHT=4354.0),\n",
       " Row(ACCELERATION=8.5, CYLINDERS=8.0, DISPLACEMENT=440.0, HORSEPOWER=215.0, MODELYEAR=70.0, MPG=14.0, NAME='plymouth fury iii', WEIGHT=4312.0),\n",
       " Row(ACCELERATION=10.0, CYLINDERS=8.0, DISPLACEMENT=455.0, HORSEPOWER=225.0, MODELYEAR=70.0, MPG=14.0, NAME='pontiac catalina', WEIGHT=4425.0),\n",
       " Row(ACCELERATION=8.5, CYLINDERS=8.0, DISPLACEMENT=390.0, HORSEPOWER=190.0, MODELYEAR=70.0, MPG=15.0, NAME='amc ambassador dpl', WEIGHT=3850.0)]"
      ]
     },
     "execution_count": 14,
     "metadata": {},
     "output_type": "execute_result"
    }
   ],
   "source": [
    "autoMap.take(10)"
   ]
  },
  {
   "cell_type": "markdown",
   "metadata": {},
   "source": [
    "**Create sql dataframe**"
   ]
  },
  {
   "cell_type": "code",
   "execution_count": 15,
   "metadata": {
    "collapsed": true
   },
   "outputs": [],
   "source": [
    "autoDF = spark.createDataFrame(autoMap)"
   ]
  },
  {
   "cell_type": "code",
   "execution_count": 16,
   "metadata": {},
   "outputs": [
    {
     "name": "stdout",
     "output_type": "stream",
     "text": [
      "+------------+---------+------------+----------+---------+----+--------------------+------+\n",
      "|ACCELERATION|CYLINDERS|DISPLACEMENT|HORSEPOWER|MODELYEAR| MPG|                NAME|WEIGHT|\n",
      "+------------+---------+------------+----------+---------+----+--------------------+------+\n",
      "|        12.0|      8.0|       307.0|     130.0|     70.0|18.0|chevrolet chevell...|3504.0|\n",
      "|        11.5|      8.0|       350.0|     165.0|     70.0|15.0|   buick skylark 320|3693.0|\n",
      "|        11.0|      8.0|       318.0|     150.0|     70.0|18.0|  plymouth satellite|3436.0|\n",
      "|        12.0|      8.0|       304.0|     150.0|     70.0|16.0|       amc rebel sst|3433.0|\n",
      "|        10.5|      8.0|       302.0|     140.0|     70.0|17.0|         ford torino|3449.0|\n",
      "|        10.0|      8.0|       429.0|     198.0|     70.0|15.0|    ford galaxie 500|4341.0|\n",
      "|         9.0|      8.0|       454.0|     220.0|     70.0|14.0|    chevrolet impala|4354.0|\n",
      "|         8.5|      8.0|       440.0|     215.0|     70.0|14.0|   plymouth fury iii|4312.0|\n",
      "|        10.0|      8.0|       455.0|     225.0|     70.0|14.0|    pontiac catalina|4425.0|\n",
      "|         8.5|      8.0|       390.0|     190.0|     70.0|15.0|  amc ambassador dpl|3850.0|\n",
      "+------------+---------+------------+----------+---------+----+--------------------+------+\n",
      "only showing top 10 rows\n",
      "\n"
     ]
    }
   ],
   "source": [
    "autoDF.show(10)"
   ]
  },
  {
   "cell_type": "markdown",
   "metadata": {},
   "source": [
    "## 4. Data Analytics"
   ]
  },
  {
   "cell_type": "markdown",
   "metadata": {},
   "source": [
    "**Describe the columns of MPG & CYLINDERS**"
   ]
  },
  {
   "cell_type": "code",
   "execution_count": 17,
   "metadata": {},
   "outputs": [
    {
     "name": "stdout",
     "output_type": "stream",
     "text": [
      "+-------+-----------------+------------------+\n",
      "|summary|              MPG|         CYLINDERS|\n",
      "+-------+-----------------+------------------+\n",
      "|  count|              398|               398|\n",
      "|   mean|23.51457286432161| 5.454773869346734|\n",
      "| stddev|7.815984312565782|1.7010042445332125|\n",
      "|    min|              9.0|               3.0|\n",
      "|    max|             46.6|               8.0|\n",
      "+-------+-----------------+------------------+\n",
      "\n"
     ]
    }
   ],
   "source": [
    "autoDF.select(\"MPG\", \"CYLINDERS\").describe().show()"
   ]
  },
  {
   "cell_type": "markdown",
   "metadata": {},
   "source": [
    "**Correlation between the target variables and the feature variables**"
   ]
  },
  {
   "cell_type": "code",
   "execution_count": 18,
   "metadata": {},
   "outputs": [
    {
     "name": "stdout",
     "output_type": "stream",
     "text": [
      "Correlation to MPG for ACCELERATION 0.42028891210165004\n",
      "Correlation to MPG for CYLINDERS -0.7753962854205548\n",
      "Correlation to MPG for DISPLACEMENT -0.8042028248058979\n",
      "Correlation to MPG for HORSEPOWER -0.7746308409203807\n",
      "Correlation to MPG for MODELYEAR 0.5792671330833091\n",
      "Correlation to MPG for MPG 1.0\n",
      "Correlation to MPG for WEIGHT -0.8317409332443347\n"
     ]
    }
   ],
   "source": [
    "# iterate through each column in the dataframe\n",
    "for i in autoDF.columns:\n",
    "    # if data is not an instance of string\n",
    "    if not(isinstance(autoDF.select(i).take(1)[0][0], str)):\n",
    "        print(\"Correlation to MPG for\", i, autoDF.stat.corr(\"MPG\", i))"
   ]
  },
  {
   "cell_type": "markdown",
   "metadata": {},
   "source": [
    "## 5. Prepare data for machine learning"
   ]
  },
  {
   "cell_type": "code",
   "execution_count": 19,
   "metadata": {
    "collapsed": true
   },
   "outputs": [],
   "source": [
    "from pyspark.ml.linalg import Vectors"
   ]
  },
  {
   "cell_type": "markdown",
   "metadata": {},
   "source": [
    "**A function to transform the RDD into labelled points**"
   ]
  },
  {
   "cell_type": "code",
   "execution_count": 20,
   "metadata": {
    "collapsed": true
   },
   "outputs": [],
   "source": [
    "def transformToLabeledPoint(row):\n",
    "    '''a function to convert to labelled point'''\n",
    "    # convert to labelled point\n",
    "    lp = (row[\"MPG\"]), Vectors.dense([row[\"ACCELERATION\"], row[\"DISPLACEMENT\"], row[\"WEIGHT\"]])\n",
    "    # return labelled point\n",
    "    return lp"
   ]
  },
  {
   "cell_type": "markdown",
   "metadata": {},
   "source": [
    "**Create the RDD of labelled points using the mapping function**"
   ]
  },
  {
   "cell_type": "code",
   "execution_count": 21,
   "metadata": {
    "collapsed": true
   },
   "outputs": [],
   "source": [
    "autoLp = autoMap.map(transformToLabeledPoint)"
   ]
  },
  {
   "cell_type": "markdown",
   "metadata": {},
   "source": [
    "**Create the spark sql dataframe using the above RDD**"
   ]
  },
  {
   "cell_type": "code",
   "execution_count": 22,
   "metadata": {
    "collapsed": true
   },
   "outputs": [],
   "source": [
    "autoDF = spark.createDataFrame(autoLp, [\"label\", \"features\"])"
   ]
  },
  {
   "cell_type": "code",
   "execution_count": 23,
   "metadata": {},
   "outputs": [
    {
     "name": "stdout",
     "output_type": "stream",
     "text": [
      "+-----+-------------------+\n",
      "|label|           features|\n",
      "+-----+-------------------+\n",
      "| 18.0|[12.0,307.0,3504.0]|\n",
      "| 15.0|[11.5,350.0,3693.0]|\n",
      "| 18.0|[11.0,318.0,3436.0]|\n",
      "| 16.0|[12.0,304.0,3433.0]|\n",
      "| 17.0|[10.5,302.0,3449.0]|\n",
      "| 15.0|[10.0,429.0,4341.0]|\n",
      "| 14.0| [9.0,454.0,4354.0]|\n",
      "| 14.0| [8.5,440.0,4312.0]|\n",
      "| 14.0|[10.0,455.0,4425.0]|\n",
      "| 15.0| [8.5,390.0,3850.0]|\n",
      "+-----+-------------------+\n",
      "only showing top 10 rows\n",
      "\n"
     ]
    }
   ],
   "source": [
    "autoDF.select(\"label\", \"features\").show(10)"
   ]
  },
  {
   "cell_type": "markdown",
   "metadata": {},
   "source": [
    "## 6. Train & Performance Access the Model"
   ]
  },
  {
   "cell_type": "markdown",
   "metadata": {},
   "source": [
    "### Do a train test split"
   ]
  },
  {
   "cell_type": "code",
   "execution_count": 24,
   "metadata": {
    "collapsed": true
   },
   "outputs": [],
   "source": [
    "(trainingData, testData) = autoDF.randomSplit([0.9, 0.1])"
   ]
  },
  {
   "cell_type": "code",
   "execution_count": 25,
   "metadata": {},
   "outputs": [
    {
     "data": {
      "text/plain": [
       "347"
      ]
     },
     "execution_count": 25,
     "metadata": {},
     "output_type": "execute_result"
    }
   ],
   "source": [
    "trainingData.count()"
   ]
  },
  {
   "cell_type": "code",
   "execution_count": 26,
   "metadata": {},
   "outputs": [
    {
     "data": {
      "text/plain": [
       "51"
      ]
     },
     "execution_count": 26,
     "metadata": {},
     "output_type": "execute_result"
    }
   ],
   "source": [
    "testData.count()"
   ]
  },
  {
   "cell_type": "markdown",
   "metadata": {},
   "source": [
    "### Train the model"
   ]
  },
  {
   "cell_type": "code",
   "execution_count": 27,
   "metadata": {
    "collapsed": true
   },
   "outputs": [],
   "source": [
    "from pyspark.ml.regression import LinearRegression"
   ]
  },
  {
   "cell_type": "markdown",
   "metadata": {},
   "source": [
    "**Create and fit the model**"
   ]
  },
  {
   "cell_type": "code",
   "execution_count": 28,
   "metadata": {},
   "outputs": [],
   "source": [
    "lr = LinearRegression(maxIter = 100)"
   ]
  },
  {
   "cell_type": "code",
   "execution_count": 29,
   "metadata": {
    "collapsed": true
   },
   "outputs": [],
   "source": [
    "lrModel = lr.fit(trainingData)"
   ]
  },
  {
   "cell_type": "markdown",
   "metadata": {},
   "source": [
    "**Print the metrics**"
   ]
  },
  {
   "cell_type": "code",
   "execution_count": 30,
   "metadata": {},
   "outputs": [
    {
     "name": "stdout",
     "output_type": "stream",
     "text": [
      "Coefficients: [0.157076268935,-0.00772822949454,-0.0065594059488]\n"
     ]
    }
   ],
   "source": [
    "print(\"Coefficients: \"+str(lrModel.coefficients))"
   ]
  },
  {
   "cell_type": "code",
   "execution_count": 31,
   "metadata": {},
   "outputs": [
    {
     "name": "stdout",
     "output_type": "stream",
     "text": [
      "Intercept: 42.12744833564257\n"
     ]
    }
   ],
   "source": [
    "print(\"Intercept: \"+str(lrModel.intercept))"
   ]
  },
  {
   "cell_type": "markdown",
   "metadata": {},
   "source": [
    "### Access the model"
   ]
  },
  {
   "cell_type": "markdown",
   "metadata": {},
   "source": [
    "**Compute prediction on test data**"
   ]
  },
  {
   "cell_type": "code",
   "execution_count": 32,
   "metadata": {
    "collapsed": true
   },
   "outputs": [],
   "source": [
    "predictions = lrModel.transform(testData)"
   ]
  },
  {
   "cell_type": "code",
   "execution_count": 33,
   "metadata": {},
   "outputs": [
    {
     "name": "stdout",
     "output_type": "stream",
     "text": [
      "+-----+-------------------+------------------+\n",
      "|label|           features|        prediction|\n",
      "+-----+-------------------+------------------+\n",
      "|  9.0|[18.5,304.0,4732.0]|11.644868594900043|\n",
      "| 13.0|[12.0,302.0,3169.0]| 20.89168080377907|\n",
      "| 13.0|[12.0,350.0,4274.0]|13.272582214622108|\n",
      "| 13.0|[13.0,360.0,4654.0]|10.859801928069409|\n",
      "| 14.0| [8.0,340.0,3609.0]| 17.08356438977651|\n",
      "| 14.0|[13.5,351.0,4657.0]| 10.98821591014137|\n",
      "| 14.0|[16.0,302.0,4638.0]| 11.88421854073837|\n",
      "| 15.0|[10.0,383.0,3563.0]|17.367135733026018|\n",
      "| 16.0| [9.5,400.0,4278.0]|12.467242443762505|\n",
      "| 16.0|[12.0,304.0,3433.0]|19.144541174307953|\n",
      "| 17.0|[15.5,250.0,3329.0]|20.793810726960285|\n",
      "| 18.0|[11.0,318.0,3436.0]| 18.85959147460302|\n",
      "| 18.0| [13.5,70.0,2124.0]|29.774823666405748|\n",
      "| 18.0|[13.5,258.0,2962.0]|22.825134336341943|\n",
      "| 18.5|[16.2,250.0,3645.0]|18.830991835395377|\n",
      "| 19.0|[13.0,232.0,2634.0]|25.099015319937376|\n",
      "| 19.0|[15.5,250.0,3302.0]|20.970914687577764|\n",
      "| 21.0|[17.0,200.0,2875.0]|  24.3938069058429|\n",
      "| 22.0|[18.0,121.0,2511.0]| 27.54903707020799|\n",
      "| 23.0|[16.0,198.0,2904.0]|24.061964323381886|\n",
      "+-----+-------------------+------------------+\n",
      "only showing top 20 rows\n",
      "\n"
     ]
    }
   ],
   "source": [
    "predictions.show()"
   ]
  },
  {
   "cell_type": "markdown",
   "metadata": {},
   "source": [
    "**Compute R2 coefficient**"
   ]
  },
  {
   "cell_type": "code",
   "execution_count": 34,
   "metadata": {
    "collapsed": true
   },
   "outputs": [],
   "source": [
    "from pyspark.ml.evaluation import RegressionEvaluator"
   ]
  },
  {
   "cell_type": "code",
   "execution_count": 35,
   "metadata": {
    "collapsed": true
   },
   "outputs": [],
   "source": [
    "evaluator = RegressionEvaluator(predictionCol=\"prediction\", labelCol=\"label\", metricName=\"r2\")"
   ]
  },
  {
   "cell_type": "code",
   "execution_count": 36,
   "metadata": {},
   "outputs": [
    {
     "data": {
      "text/plain": [
       "0.6846266229167892"
      ]
     },
     "execution_count": 36,
     "metadata": {},
     "output_type": "execute_result"
    }
   ],
   "source": [
    "evaluator.evaluate(predictions)"
   ]
  }
 ],
 "metadata": {
  "kernelspec": {
   "display_name": "Python 3",
   "language": "python",
   "name": "python3"
  },
  "language_info": {
   "codemirror_mode": {
    "name": "ipython",
    "version": 3
   },
   "file_extension": ".py",
   "mimetype": "text/x-python",
   "name": "python",
   "nbconvert_exporter": "python",
   "pygments_lexer": "ipython3",
   "version": "3.6.3"
  }
 },
 "nbformat": 4,
 "nbformat_minor": 2
}
