{
 "cells": [
  {
   "cell_type": "markdown",
   "metadata": {},
   "source": [
    "# Random Forest Example"
   ]
  },
  {
   "cell_type": "markdown",
   "metadata": {},
   "source": [
    "## 1. Import spark modules"
   ]
  },
  {
   "cell_type": "code",
   "execution_count": 1,
   "metadata": {
    "collapsed": true
   },
   "outputs": [],
   "source": [
    "from pyspark.sql import SparkSession\n",
    "from pyspark.sql import Row"
   ]
  },
  {
   "cell_type": "code",
   "execution_count": 2,
   "metadata": {
    "collapsed": true
   },
   "outputs": [],
   "source": [
    "spark = SparkSession\\\n",
    "        .builder\\\n",
    "        .appName(\"PythonPi\")\\\n",
    "        .getOrCreate()"
   ]
  },
  {
   "cell_type": "markdown",
   "metadata": {},
   "source": [
    "**Setup spark configuration and create a spark context**"
   ]
  },
  {
   "cell_type": "code",
   "execution_count": 3,
   "metadata": {
    "collapsed": true
   },
   "outputs": [],
   "source": [
    "sc = spark.sparkContext"
   ]
  },
  {
   "cell_type": "markdown",
   "metadata": {},
   "source": [
    "## 2. Load the data"
   ]
  },
  {
   "cell_type": "code",
   "execution_count": 4,
   "metadata": {
    "collapsed": true
   },
   "outputs": [],
   "source": [
    "bankData = sc.textFile(\"./input/bank.csv\")"
   ]
  },
  {
   "cell_type": "code",
   "execution_count": 5,
   "metadata": {},
   "outputs": [
    {
     "data": {
      "text/plain": [
       "./input/bank.csv MapPartitionsRDD[1] at textFile at <unknown>:0"
      ]
     },
     "execution_count": 5,
     "metadata": {},
     "output_type": "execute_result"
    }
   ],
   "source": [
    "bankData.cache()"
   ]
  },
  {
   "cell_type": "code",
   "execution_count": 6,
   "metadata": {},
   "outputs": [
    {
     "data": {
      "text/plain": [
       "542"
      ]
     },
     "execution_count": 6,
     "metadata": {},
     "output_type": "execute_result"
    }
   ],
   "source": [
    "bankData.count()"
   ]
  },
  {
   "cell_type": "markdown",
   "metadata": {},
   "source": [
    "## 3. Cleanup Data"
   ]
  },
  {
   "cell_type": "markdown",
   "metadata": {},
   "source": [
    "### Remove the header line"
   ]
  },
  {
   "cell_type": "code",
   "execution_count": 7,
   "metadata": {
    "collapsed": true
   },
   "outputs": [],
   "source": [
    "firstLine = bankData.first()"
   ]
  },
  {
   "cell_type": "code",
   "execution_count": 8,
   "metadata": {
    "collapsed": true
   },
   "outputs": [],
   "source": [
    "dataLines = bankData.filter(lambda x: x != firstLine)"
   ]
  },
  {
   "cell_type": "code",
   "execution_count": 9,
   "metadata": {},
   "outputs": [
    {
     "data": {
      "text/plain": [
       "541"
      ]
     },
     "execution_count": 9,
     "metadata": {},
     "output_type": "execute_result"
    }
   ],
   "source": [
    "dataLines.count()"
   ]
  },
  {
   "cell_type": "markdown",
   "metadata": {},
   "source": [
    "**A map function to convert string to numberic**"
   ]
  },
  {
   "cell_type": "code",
   "execution_count": 10,
   "metadata": {
    "collapsed": true
   },
   "outputs": [],
   "source": [
    "import math\n",
    "from pyspark.ml.linalg import Vectors"
   ]
  },
  {
   "cell_type": "code",
   "execution_count": 11,
   "metadata": {
    "collapsed": true
   },
   "outputs": [],
   "source": [
    "def transformToNumeric(inputStr):\n",
    "    \n",
    "    '''a function to convert input string to numbers'''\n",
    "    attList = inputStr.replace(\"\\\"\",\"\").split(\";\")\n",
    "    \n",
    "    # convert the age to float\n",
    "    age = float(attList[0])\n",
    "    \n",
    "    # convert the outcome to float\n",
    "    outcome = 0.0 if attList[16] == \"no\" else 1.0\n",
    "    \n",
    "    # create indicator variable for single/married\n",
    "    single = 1.0 if attList[2] == \"single\" else 0.0\n",
    "    married = 1.0 if attList[2] == \"married\" else 0.0\n",
    "    divorced = 1.0 if attList[2] == \"divorced\" else 0.0\n",
    "    \n",
    "    # create indicator variables for education\n",
    "    primary = 1.0 if attList[3] == \"primary\" else 0.0\n",
    "    secondary = 1.0 if attList[3] == \"secondary\" else 0.0\n",
    "    tertiary = 1.0 if attList[3] == \"tertiary\" else 0.0\n",
    "    \n",
    "    # convert default to float\n",
    "    default = 0.0 if attList[4] == \"no\" else 1.0\n",
    "    # convert balance amount to float\n",
    "    balance = float(attList[5])\n",
    "    # convert loan to float\n",
    "    loan = 0.0 if attList[7] == \"no\" else 1.0\n",
    "    \n",
    "    # create a Row using the attributes\n",
    "    values = Row(OUTCOME = outcome,\n",
    "                AGE = age,\n",
    "                SINGLE = single,\n",
    "                MARRIED = married,\n",
    "                DIVORCED = divorced,\n",
    "                PRIMARY = primary,\n",
    "                SECONDARY = secondary,\n",
    "                TERTIARY = tertiary,\n",
    "                DEFAULT = default,\n",
    "                BALANCE = balance,\n",
    "                LOAN = loan)\n",
    "    \n",
    "    return values"
   ]
  },
  {
   "cell_type": "markdown",
   "metadata": {},
   "source": [
    "**Transform the data using the map function**"
   ]
  },
  {
   "cell_type": "code",
   "execution_count": 12,
   "metadata": {
    "collapsed": true
   },
   "outputs": [],
   "source": [
    "bankRows = dataLines.map(transformToNumeric)"
   ]
  },
  {
   "cell_type": "markdown",
   "metadata": {},
   "source": [
    "**Create a dataframe**"
   ]
  },
  {
   "cell_type": "code",
   "execution_count": 13,
   "metadata": {
    "collapsed": true
   },
   "outputs": [],
   "source": [
    "bankData = spark.createDataFrame(bankRows)"
   ]
  },
  {
   "cell_type": "code",
   "execution_count": 14,
   "metadata": {},
   "outputs": [
    {
     "name": "stdout",
     "output_type": "stream",
     "text": [
      "+----+-------+-------+--------+----+-------+-------+-------+---------+------+--------+\n",
      "| AGE|BALANCE|DEFAULT|DIVORCED|LOAN|MARRIED|OUTCOME|PRIMARY|SECONDARY|SINGLE|TERTIARY|\n",
      "+----+-------+-------+--------+----+-------+-------+-------+---------+------+--------+\n",
      "|30.0| 1787.0|    0.0|     0.0| 0.0|    1.0|    0.0|    1.0|      0.0|   0.0|     0.0|\n",
      "|33.0| 4789.0|    0.0|     0.0| 1.0|    1.0|    1.0|    0.0|      1.0|   0.0|     0.0|\n",
      "|35.0| 1350.0|    0.0|     0.0| 0.0|    0.0|    1.0|    0.0|      0.0|   1.0|     1.0|\n",
      "|30.0| 1476.0|    0.0|     0.0| 1.0|    1.0|    1.0|    0.0|      0.0|   0.0|     1.0|\n",
      "|59.0|    0.0|    0.0|     0.0| 0.0|    1.0|    0.0|    0.0|      1.0|   0.0|     0.0|\n",
      "|35.0|  747.0|    0.0|     0.0| 0.0|    0.0|    1.0|    0.0|      0.0|   1.0|     1.0|\n",
      "|36.0|  307.0|    0.0|     0.0| 0.0|    1.0|    1.0|    0.0|      0.0|   0.0|     1.0|\n",
      "|39.0|  147.0|    0.0|     0.0| 0.0|    1.0|    0.0|    0.0|      1.0|   0.0|     0.0|\n",
      "|41.0|  221.0|    0.0|     0.0| 0.0|    1.0|    0.0|    0.0|      0.0|   0.0|     1.0|\n",
      "|43.0|  -88.0|    0.0|     0.0| 1.0|    1.0|    1.0|    1.0|      0.0|   0.0|     0.0|\n",
      "|39.0| 9374.0|    0.0|     0.0| 0.0|    1.0|    0.0|    0.0|      1.0|   0.0|     0.0|\n",
      "|43.0|  264.0|    0.0|     0.0| 0.0|    1.0|    0.0|    0.0|      1.0|   0.0|     0.0|\n",
      "|36.0| 1109.0|    0.0|     0.0| 0.0|    1.0|    0.0|    0.0|      0.0|   0.0|     1.0|\n",
      "|20.0|  502.0|    0.0|     0.0| 0.0|    0.0|    1.0|    0.0|      1.0|   1.0|     0.0|\n",
      "|31.0|  360.0|    0.0|     0.0| 1.0|    1.0|    1.0|    0.0|      1.0|   0.0|     0.0|\n",
      "|40.0|  194.0|    0.0|     0.0| 1.0|    1.0|    0.0|    0.0|      0.0|   0.0|     1.0|\n",
      "|56.0| 4073.0|    0.0|     0.0| 0.0|    1.0|    0.0|    0.0|      1.0|   0.0|     0.0|\n",
      "|37.0| 2317.0|    0.0|     0.0| 0.0|    0.0|    1.0|    0.0|      0.0|   1.0|     1.0|\n",
      "|25.0| -221.0|    0.0|     0.0| 0.0|    0.0|    0.0|    1.0|      0.0|   1.0|     0.0|\n",
      "|31.0|  132.0|    0.0|     0.0| 0.0|    1.0|    1.0|    0.0|      1.0|   0.0|     0.0|\n",
      "+----+-------+-------+--------+----+-------+-------+-------+---------+------+--------+\n",
      "only showing top 20 rows\n",
      "\n"
     ]
    }
   ],
   "source": [
    "bankData.show()"
   ]
  },
  {
   "cell_type": "markdown",
   "metadata": {},
   "source": [
    "## 4. Perform Data Analytics"
   ]
  },
  {
   "cell_type": "markdown",
   "metadata": {},
   "source": [
    "**Describe the data**"
   ]
  },
  {
   "cell_type": "code",
   "execution_count": 15,
   "metadata": {},
   "outputs": [
    {
     "name": "stdout",
     "output_type": "stream",
     "text": [
      "+-------+------------------+------------------+--------------------+-------------------+-------------------+------------------+-------------------+------------------+------------------+------------------+------------------+\n",
      "|summary|               AGE|           BALANCE|             DEFAULT|           DIVORCED|               LOAN|           MARRIED|            OUTCOME|           PRIMARY|         SECONDARY|            SINGLE|          TERTIARY|\n",
      "+-------+------------------+------------------+--------------------+-------------------+-------------------+------------------+-------------------+------------------+------------------+------------------+------------------+\n",
      "|  count|               541|               541|                 541|                541|                541|               541|                541|               541|               541|               541|               541|\n",
      "|   mean| 41.26987060998152|1444.7818853974122|0.022181146025878003|0.10905730129390019|0.16266173752310537|0.6155268022181146| 0.3974121996303142|0.1534195933456562|0.4953789279112754|0.2754158964879852|0.3142329020332717|\n",
      "| stddev|10.555374170161665|2423.2722735171924|  0.1474086424402979| 0.3119995822161848|0.36939832735881994|0.4869207382098541|0.48981549262335145| 0.360725025449802|0.5004413742994283|0.4471370479760759|0.4646392600205975|\n",
      "|    min|              19.0|           -1206.0|                 0.0|                0.0|                0.0|               0.0|                0.0|               0.0|               0.0|               0.0|               0.0|\n",
      "|    max|              78.0|           16873.0|                 1.0|                1.0|                1.0|               1.0|                1.0|               1.0|               1.0|               1.0|               1.0|\n",
      "+-------+------------------+------------------+--------------------+-------------------+-------------------+------------------+-------------------+------------------+------------------+------------------+------------------+\n",
      "\n"
     ]
    }
   ],
   "source": [
    "bankData.describe().show()"
   ]
  },
  {
   "cell_type": "markdown",
   "metadata": {},
   "source": [
    "**Correlation between the target variables and the feature variables**"
   ]
  },
  {
   "cell_type": "code",
   "execution_count": 16,
   "metadata": {},
   "outputs": [
    {
     "name": "stdout",
     "output_type": "stream",
     "text": [
      "Correlation to OUTCOME for AGE -0.1823210432736525\n",
      "Correlation to OUTCOME for BALANCE 0.036574866119976804\n",
      "Correlation to OUTCOME for DEFAULT -0.04536965206737378\n",
      "Correlation to OUTCOME for DIVORCED -0.07812659940926987\n",
      "Correlation to OUTCOME for LOAN -0.030420586112717318\n",
      "Correlation to OUTCOME for MARRIED -0.3753241299133561\n",
      "Correlation to OUTCOME for OUTCOME 1.0\n",
      "Correlation to OUTCOME for PRIMARY -0.12561548832677982\n",
      "Correlation to OUTCOME for SECONDARY 0.026392774894072973\n",
      "Correlation to OUTCOME for SINGLE 0.46323284934360515\n",
      "Correlation to OUTCOME for TERTIARY 0.08494840766635618\n"
     ]
    }
   ],
   "source": [
    "# iterate through each column in the dataframe\n",
    "for i in bankData.columns:\n",
    "    # if data is not an instance of string\n",
    "    if not(isinstance(bankData.select(i).take(1)[0][0], str)):\n",
    "        print(\"Correlation to OUTCOME for\", i, bankData.stat.corr(\"OUTCOME\", i))"
   ]
  },
  {
   "cell_type": "markdown",
   "metadata": {},
   "source": [
    "## 5. Prepare data for machine learning"
   ]
  },
  {
   "cell_type": "markdown",
   "metadata": {},
   "source": [
    "**A function to transform data to labelled points**"
   ]
  },
  {
   "cell_type": "code",
   "execution_count": 17,
   "metadata": {
    "collapsed": true
   },
   "outputs": [],
   "source": [
    "def transformToLabeledPoint(row):\n",
    "    \n",
    "    '''a function to transform data to labelled points'''\n",
    "    lp = (row[\"OUTCOME\"],\n",
    "          Vectors.dense([\n",
    "              row[\"AGE\"],\n",
    "              row[\"BALANCE\"],\n",
    "              row[\"DEFAULT\"],\n",
    "              row[\"DIVORCED\"],\n",
    "              row[\"LOAN\"],\n",
    "              row[\"MARRIED\"],\n",
    "              row[\"PRIMARY\"],\n",
    "              row[\"SECONDARY\"],\n",
    "              row[\"SINGLE\"],\n",
    "              row[\"TERTIARY\"]]))\n",
    "    \n",
    "    return lp"
   ]
  },
  {
   "cell_type": "markdown",
   "metadata": {},
   "source": [
    "**Convert the data to labelled points**"
   ]
  },
  {
   "cell_type": "code",
   "execution_count": 18,
   "metadata": {
    "collapsed": true
   },
   "outputs": [],
   "source": [
    "bankLp = bankData.rdd.map(transformToLabeledPoint)"
   ]
  },
  {
   "cell_type": "markdown",
   "metadata": {},
   "source": [
    "**Create a dataframe using the rdd**"
   ]
  },
  {
   "cell_type": "code",
   "execution_count": 19,
   "metadata": {
    "collapsed": true
   },
   "outputs": [],
   "source": [
    "bankDF = spark.createDataFrame(bankLp, [\"label\", \"features\"])"
   ]
  },
  {
   "cell_type": "code",
   "execution_count": 20,
   "metadata": {},
   "outputs": [
    {
     "name": "stdout",
     "output_type": "stream",
     "text": [
      "+-----+--------------------+\n",
      "|label|            features|\n",
      "+-----+--------------------+\n",
      "|  0.0|[30.0,1787.0,0.0,...|\n",
      "|  1.0|[33.0,4789.0,0.0,...|\n",
      "|  1.0|[35.0,1350.0,0.0,...|\n",
      "|  1.0|[30.0,1476.0,0.0,...|\n",
      "|  0.0|[59.0,0.0,0.0,0.0...|\n",
      "|  1.0|[35.0,747.0,0.0,0...|\n",
      "|  1.0|[36.0,307.0,0.0,0...|\n",
      "|  0.0|[39.0,147.0,0.0,0...|\n",
      "|  0.0|[41.0,221.0,0.0,0...|\n",
      "|  1.0|[43.0,-88.0,0.0,0...|\n",
      "|  0.0|[39.0,9374.0,0.0,...|\n",
      "|  0.0|[43.0,264.0,0.0,0...|\n",
      "|  0.0|[36.0,1109.0,0.0,...|\n",
      "|  1.0|[20.0,502.0,0.0,0...|\n",
      "|  1.0|[31.0,360.0,0.0,0...|\n",
      "|  0.0|[40.0,194.0,0.0,0...|\n",
      "|  0.0|[56.0,4073.0,0.0,...|\n",
      "|  1.0|[37.0,2317.0,0.0,...|\n",
      "|  0.0|[25.0,-221.0,0.0,...|\n",
      "|  1.0|[31.0,132.0,0.0,0...|\n",
      "+-----+--------------------+\n",
      "only showing top 20 rows\n",
      "\n"
     ]
    }
   ],
   "source": [
    "bankDF.show()"
   ]
  },
  {
   "cell_type": "markdown",
   "metadata": {},
   "source": [
    "## 6. Perform PCA"
   ]
  },
  {
   "cell_type": "code",
   "execution_count": 21,
   "metadata": {
    "collapsed": true
   },
   "outputs": [],
   "source": [
    "from pyspark.ml.feature import PCA"
   ]
  },
  {
   "cell_type": "markdown",
   "metadata": {},
   "source": [
    "**Create and fit pca model**"
   ]
  },
  {
   "cell_type": "code",
   "execution_count": 22,
   "metadata": {
    "collapsed": true
   },
   "outputs": [],
   "source": [
    "bankPCA = PCA(k =3, inputCol = \"features\", outputCol=\"pcaFeatures\")\n",
    "pcaModel = bankPCA.fit(bankDF)"
   ]
  },
  {
   "cell_type": "markdown",
   "metadata": {},
   "source": [
    "**Store and show the pca results**"
   ]
  },
  {
   "cell_type": "code",
   "execution_count": 23,
   "metadata": {
    "collapsed": true
   },
   "outputs": [],
   "source": [
    "pcaResult = pcaModel.transform(bankDF).select(\"label\", \"pcaFeatures\")"
   ]
  },
  {
   "cell_type": "code",
   "execution_count": 24,
   "metadata": {},
   "outputs": [
    {
     "name": "stdout",
     "output_type": "stream",
     "text": [
      "+-----+------------------------------------------------------------+\n",
      "|label|pcaFeatures                                                 |\n",
      "+-----+------------------------------------------------------------+\n",
      "|0.0  |[-1787.018897197381,28.86209683775489,-0.06459982604876296] |\n",
      "|1.0  |[-4789.020177138492,29.922562636340885,-0.9830243513096447] |\n",
      "|1.0  |[-1350.022213163262,34.10110809796657,0.8951427168301616]   |\n",
      "|1.0  |[-1476.0189517184556,29.051333993596376,0.3952723868021922] |\n",
      "|0.0  |[-0.037889185366455545,58.9897182000177,-0.729079238366194] |\n",
      "|1.0  |[-747.0223377634923,34.488291981817554,0.9045654956970024]  |\n",
      "|1.0  |[-307.0230691022592,35.799850539655154,0.5170631523785959]  |\n",
      "|0.0  |[-147.0250121617634,38.90107856650326,-0.8069627548799431]  |\n",
      "|0.0  |[-221.0262985348787,40.853633675694894,0.53730363658032]    |\n",
      "|1.0  |[87.9723868768871,43.06265944115107,-0.06701642871171626]   |\n",
      "|0.0  |[-9374.023105550941,32.9764588379908,-0.9511484606914545]   |\n",
      "|0.0  |[-264.02755731528384,42.824803639813474,-0.7936737710234711]|\n",
      "|0.0  |[-1109.0229033818864,35.28488955317342,0.504530700220708]   |\n",
      "|1.0  |[-502.012736403296,19.649271797807508,-0.486159938202079]   |\n",
      "|1.0  |[-360.0198076551079,30.766980637614004,-0.9213732295769713] |\n",
      "|0.0  |[-194.02563994730255,39.87162681803836,0.4530987690401236]  |\n",
      "|0.0  |[-4073.0351205683055,53.37532349166361,-0.804063931764698]  |\n",
      "|1.0  |[-2317.0232980131414,35.479626424872734,0.8875905344623362] |\n",
      "|0.0  |[220.9838976313296,25.12353896656834,0.34603890246558655]   |\n",
      "|1.0  |[-132.01987660190264,30.913009397389693,-0.8369629258629339]|\n",
      "+-----+------------------------------------------------------------+\n",
      "only showing top 20 rows\n",
      "\n"
     ]
    }
   ],
   "source": [
    "pcaResult.show(truncate=False)"
   ]
  },
  {
   "cell_type": "markdown",
   "metadata": {},
   "source": [
    "## 7. Perform Random Forest Classification"
   ]
  },
  {
   "cell_type": "code",
   "execution_count": 25,
   "metadata": {
    "collapsed": true
   },
   "outputs": [],
   "source": [
    "from pyspark.ml.feature import StringIndexer"
   ]
  },
  {
   "cell_type": "markdown",
   "metadata": {},
   "source": [
    "**Convert the label into numeric values**"
   ]
  },
  {
   "cell_type": "code",
   "execution_count": 26,
   "metadata": {
    "collapsed": true
   },
   "outputs": [],
   "source": [
    "stringIndexer = StringIndexer(inputCol=\"label\", outputCol=\"indexed\")"
   ]
  },
  {
   "cell_type": "code",
   "execution_count": 27,
   "metadata": {
    "collapsed": true
   },
   "outputs": [],
   "source": [
    "si_model = stringIndexer.fit(pcaResult)"
   ]
  },
  {
   "cell_type": "code",
   "execution_count": 28,
   "metadata": {
    "collapsed": true
   },
   "outputs": [],
   "source": [
    "td = si_model.transform(pcaResult)"
   ]
  },
  {
   "cell_type": "code",
   "execution_count": 29,
   "metadata": {},
   "outputs": [
    {
     "name": "stdout",
     "output_type": "stream",
     "text": [
      "+-----+--------------------+-------+\n",
      "|label|         pcaFeatures|indexed|\n",
      "+-----+--------------------+-------+\n",
      "|  0.0|[-1787.0188971973...|    0.0|\n",
      "|  1.0|[-4789.0201771384...|    1.0|\n",
      "|  1.0|[-1350.0222131632...|    1.0|\n",
      "|  1.0|[-1476.0189517184...|    1.0|\n",
      "|  0.0|[-0.0378891853664...|    0.0|\n",
      "|  1.0|[-747.02233776349...|    1.0|\n",
      "|  1.0|[-307.02306910225...|    1.0|\n",
      "|  0.0|[-147.02501216176...|    0.0|\n",
      "|  0.0|[-221.02629853487...|    0.0|\n",
      "|  1.0|[87.9723868768871...|    1.0|\n",
      "|  0.0|[-9374.0231055509...|    0.0|\n",
      "|  0.0|[-264.02755731528...|    0.0|\n",
      "|  0.0|[-1109.0229033818...|    0.0|\n",
      "|  1.0|[-502.01273640329...|    1.0|\n",
      "|  1.0|[-360.01980765510...|    1.0|\n",
      "|  0.0|[-194.02563994730...|    0.0|\n",
      "|  0.0|[-4073.0351205683...|    0.0|\n",
      "|  1.0|[-2317.0232980131...|    1.0|\n",
      "|  0.0|[220.983897631329...|    0.0|\n",
      "|  1.0|[-132.01987660190...|    1.0|\n",
      "+-----+--------------------+-------+\n",
      "only showing top 20 rows\n",
      "\n"
     ]
    }
   ],
   "source": [
    "td.show()"
   ]
  },
  {
   "cell_type": "markdown",
   "metadata": {},
   "source": [
    "**Import classifier**"
   ]
  },
  {
   "cell_type": "code",
   "execution_count": 31,
   "metadata": {
    "collapsed": true
   },
   "outputs": [],
   "source": [
    "from pyspark.ml.classification import RandomForestClassifier\n",
    "from pyspark.ml.evaluation import MulticlassClassificationEvaluator"
   ]
  },
  {
   "cell_type": "markdown",
   "metadata": {},
   "source": [
    "**Train test split**"
   ]
  },
  {
   "cell_type": "code",
   "execution_count": 33,
   "metadata": {
    "collapsed": true
   },
   "outputs": [],
   "source": [
    "(trainingData, testData) = td.randomSplit([0.75, 0.25])"
   ]
  },
  {
   "cell_type": "code",
   "execution_count": 34,
   "metadata": {},
   "outputs": [
    {
     "data": {
      "text/plain": [
       "378"
      ]
     },
     "execution_count": 34,
     "metadata": {},
     "output_type": "execute_result"
    }
   ],
   "source": [
    "trainingData.count()"
   ]
  },
  {
   "cell_type": "code",
   "execution_count": 35,
   "metadata": {},
   "outputs": [
    {
     "data": {
      "text/plain": [
       "163"
      ]
     },
     "execution_count": 35,
     "metadata": {},
     "output_type": "execute_result"
    }
   ],
   "source": [
    "testData.count()"
   ]
  },
  {
   "cell_type": "markdown",
   "metadata": {},
   "source": [
    "**Create and fit model**"
   ]
  },
  {
   "cell_type": "code",
   "execution_count": 32,
   "metadata": {
    "collapsed": true
   },
   "outputs": [],
   "source": [
    "rmClassifier = RandomForestClassifier(labelCol=\"indexed\", featuresCol=\"pcaFeatures\")"
   ]
  },
  {
   "cell_type": "code",
   "execution_count": 36,
   "metadata": {
    "collapsed": true
   },
   "outputs": [],
   "source": [
    "rmModel = rmClassifier.fit(trainingData)"
   ]
  },
  {
   "cell_type": "markdown",
   "metadata": {},
   "source": [
    "**Compute predictions using test set**"
   ]
  },
  {
   "cell_type": "code",
   "execution_count": 37,
   "metadata": {
    "collapsed": true
   },
   "outputs": [],
   "source": [
    "predictions = rmModel.transform(testData)"
   ]
  },
  {
   "cell_type": "code",
   "execution_count": 38,
   "metadata": {},
   "outputs": [
    {
     "data": {
      "text/plain": [
       "[Row(prediction=0.0, indexed=0.0, label=0.0, pcaFeatures=DenseVector([-5996.0302, 45.1426, -0.8606])),\n",
       " Row(prediction=0.0, indexed=0.0, label=0.0, pcaFeatures=DenseVector([-5883.0251, 37.2181, 0.4488])),\n",
       " Row(prediction=1.0, indexed=0.0, label=0.0, pcaFeatures=DenseVector([-4030.0229, 34.4084, -0.8752])),\n",
       " Row(prediction=1.0, indexed=0.0, label=0.0, pcaFeatures=DenseVector([-3096.0186, 27.9808, -0.4889])),\n",
       " Row(prediction=0.0, indexed=0.0, label=0.0, pcaFeatures=DenseVector([-2693.02, 30.2683, -0.8732])),\n",
       " Row(prediction=0.0, indexed=0.0, label=0.0, pcaFeatures=DenseVector([-1877.0356, 54.785, 0.2511])),\n",
       " Row(prediction=0.0, indexed=0.0, label=0.0, pcaFeatures=DenseVector([-1811.0266, 40.8265, -0.5194])),\n",
       " Row(prediction=0.0, indexed=0.0, label=0.0, pcaFeatures=DenseVector([-1808.0189, 28.8371, -0.8669])),\n",
       " Row(prediction=0.0, indexed=0.0, label=0.0, pcaFeatures=DenseVector([-1516.0253, 39.0221, -0.9054])),\n",
       " Row(prediction=0.0, indexed=0.0, label=0.0, pcaFeatures=DenseVector([-1269.0286, 44.1737, -0.4996])),\n",
       " Row(prediction=0.0, indexed=0.0, label=0.0, pcaFeatures=DenseVector([-1152.0306, 47.2532, -0.7887])),\n",
       " Row(prediction=0.0, indexed=0.0, label=0.0, pcaFeatures=DenseVector([-1117.0332, 51.2745, -0.773])),\n",
       " Row(prediction=0.0, indexed=0.0, label=0.0, pcaFeatures=DenseVector([-899.0217, 33.4203, 0.5003])),\n",
       " Row(prediction=0.0, indexed=0.0, label=0.0, pcaFeatures=DenseVector([-624.0339, 52.5918, 0.4955])),\n",
       " Row(prediction=0.0, indexed=0.0, label=0.0, pcaFeatures=DenseVector([-499.05, 77.6639, -0.6651])),\n",
       " Row(prediction=0.0, indexed=0.0, label=0.0, pcaFeatures=DenseVector([-484.0269, 41.6845, 0.537])),\n",
       " Row(prediction=0.0, indexed=0.0, label=0.0, pcaFeatures=DenseVector([-400.0314, 48.7358, -0.7731])),\n",
       " Row(prediction=0.0, indexed=0.0, label=0.0, pcaFeatures=DenseVector([-388.032, 49.7494, 0.3351])),\n",
       " Row(prediction=0.0, indexed=0.0, label=0.0, pcaFeatures=DenseVector([-365.0314, 48.7697, 0.0294])),\n",
       " Row(prediction=1.0, indexed=0.0, label=0.0, pcaFeatures=DenseVector([-308.0224, 34.7936, -0.5224])),\n",
       " Row(prediction=0.0, indexed=0.0, label=0.0, pcaFeatures=DenseVector([-222.0295, 45.8624, 0.0203])),\n",
       " Row(prediction=0.0, indexed=0.0, label=0.0, pcaFeatures=DenseVector([-221.0263, 40.8536, 0.5373])),\n",
       " Row(prediction=0.0, indexed=0.0, label=0.0, pcaFeatures=DenseVector([-204.0263, 40.8754, 0.0017])),\n",
       " Row(prediction=0.0, indexed=0.0, label=0.0, pcaFeatures=DenseVector([-168.0263, 40.8985, 0.0023])),\n",
       " Row(prediction=0.0, indexed=0.0, label=0.0, pcaFeatures=DenseVector([-147.025, 38.9011, -0.807])),\n",
       " Row(prediction=0.0, indexed=0.0, label=0.0, pcaFeatures=DenseVector([-111.025, 38.9357, -0.0044])),\n",
       " Row(prediction=0.0, indexed=0.0, label=0.0, pcaFeatures=DenseVector([-106.0224, 34.9296, 0.4356])),\n",
       " Row(prediction=0.0, indexed=0.0, label=0.0, pcaFeatures=DenseVector([-89.0263, 40.9426, -0.0799])),\n",
       " Row(prediction=0.0, indexed=0.0, label=0.0, pcaFeatures=DenseVector([-42.0379, 58.9628, -0.7297])),\n",
       " Row(prediction=0.0, indexed=0.0, label=0.0, pcaFeatures=DenseVector([-16.027, 41.9797, 0.8465])),\n",
       " Row(prediction=0.0, indexed=0.0, label=0.0, pcaFeatures=DenseVector([-0.0314, 49.0044, -0.0457])),\n",
       " Row(prediction=0.0, indexed=0.0, label=0.0, pcaFeatures=DenseVector([-0.0167, 26.0107, -0.0518])),\n",
       " Row(prediction=1.0, indexed=0.0, label=0.0, pcaFeatures=DenseVector([188.973, 42.116, -0.7904])),\n",
       " Row(prediction=0.0, indexed=0.0, label=0.0, pcaFeatures=DenseVector([203.9788, 33.1282, -0.8242])),\n",
       " Row(prediction=0.0, indexed=0.0, label=0.0, pcaFeatures=DenseVector([246.9826, 27.1579, -0.927])),\n",
       " Row(prediction=1.0, indexed=0.0, label=0.0, pcaFeatures=DenseVector([515.9736, 41.3381, -0.0679])),\n",
       " Row(prediction=1.0, indexed=0.0, label=0.0, pcaFeatures=DenseVector([714.9722, 43.4589, -0.0437])),\n",
       " Row(prediction=1.0, indexed=1.0, label=1.0, pcaFeatures=DenseVector([-5563.0162, 23.3976, -0.5388])),\n",
       " Row(prediction=1.0, indexed=1.0, label=1.0, pcaFeatures=DenseVector([-4659.0485, 73.9884, 0.9062])),\n",
       " Row(prediction=1.0, indexed=1.0, label=1.0, pcaFeatures=DenseVector([-4189.0428, 65.2921, -0.4583])),\n",
       " Row(prediction=1.0, indexed=1.0, label=1.0, pcaFeatures=DenseVector([-4111.0133, 19.3317, -0.6158])),\n",
       " Row(prediction=1.0, indexed=1.0, label=1.0, pcaFeatures=DenseVector([-3616.0198, 29.647, 0.8484])),\n",
       " Row(prediction=1.0, indexed=1.0, label=1.0, pcaFeatures=DenseVector([-2658.0219, 33.2612, 0.8747])),\n",
       " Row(prediction=0.0, indexed=1.0, label=1.0, pcaFeatures=DenseVector([-2089.0201, 30.6561, -0.8638])),\n",
       " Row(prediction=1.0, indexed=1.0, label=1.0, pcaFeatures=DenseVector([-1567.026, 39.96, 0.9144])),\n",
       " Row(prediction=0.0, indexed=1.0, label=1.0, pcaFeatures=DenseVector([-1476.019, 29.0513, 0.3953])),\n",
       " Row(prediction=0.0, indexed=1.0, label=1.0, pcaFeatures=DenseVector([-1315.0248, 38.1465, 0.8149])),\n",
       " Row(prediction=1.0, indexed=1.0, label=1.0, pcaFeatures=DenseVector([-992.0216, 33.3313, 0.897])),\n",
       " Row(prediction=0.0, indexed=1.0, label=1.0, pcaFeatures=DenseVector([-975.0191, 29.372, -0.8539])),\n",
       " Row(prediction=0.0, indexed=1.0, label=1.0, pcaFeatures=DenseVector([-883.0371, 57.4237, 0.5912])),\n",
       " Row(prediction=1.0, indexed=1.0, label=1.0, pcaFeatures=DenseVector([-747.0223, 34.4883, 0.9046])),\n",
       " Row(prediction=0.0, indexed=1.0, label=1.0, pcaFeatures=DenseVector([-591.0255, 39.5867, -0.4928])),\n",
       " Row(prediction=1.0, indexed=1.0, label=1.0, pcaFeatures=DenseVector([-574.0204, 31.6002, 0.8959])),\n",
       " Row(prediction=1.0, indexed=1.0, label=1.0, pcaFeatures=DenseVector([-505.0159, 24.6463, -0.5482])),\n",
       " Row(prediction=1.0, indexed=1.0, label=1.0, pcaFeatures=DenseVector([-502.0127, 19.6493, -0.4862])),\n",
       " Row(prediction=0.0, indexed=1.0, label=1.0, pcaFeatures=DenseVector([-462.0256, 39.6696, -0.4908])),\n",
       " Row(prediction=1.0, indexed=1.0, label=1.0, pcaFeatures=DenseVector([-462.0218, 33.6716, 0.9052])),\n",
       " Row(prediction=1.0, indexed=1.0, label=1.0, pcaFeatures=DenseVector([-455.0185, 28.6775, 0.8865])),\n",
       " Row(prediction=1.0, indexed=1.0, label=1.0, pcaFeatures=DenseVector([-451.0172, 26.7041, -0.5548])),\n",
       " Row(prediction=0.0, indexed=1.0, label=1.0, pcaFeatures=DenseVector([-432.0243, 37.719, 0.5227])),\n",
       " Row(prediction=1.0, indexed=1.0, label=1.0, pcaFeatures=DenseVector([-428.0185, 28.6946, -0.5318])),\n",
       " Row(prediction=1.0, indexed=1.0, label=1.0, pcaFeatures=DenseVector([-406.0205, 31.7075, -0.4393])),\n",
       " Row(prediction=0.0, indexed=1.0, label=1.0, pcaFeatures=DenseVector([-406.0198, 30.7192, 0.3589])),\n",
       " Row(prediction=1.0, indexed=1.0, label=1.0, pcaFeatures=DenseVector([-331.016, 24.7576, -0.4646])),\n",
       " Row(prediction=1.0, indexed=1.0, label=1.0, pcaFeatures=DenseVector([-261.0192, 29.8018, 0.8933])),\n",
       " Row(prediction=1.0, indexed=1.0, label=1.0, pcaFeatures=DenseVector([-228.0237, 36.8203, -0.4176])),\n",
       " Row(prediction=0.0, indexed=1.0, label=1.0, pcaFeatures=DenseVector([-219.0256, 39.8546, -0.8043])),\n",
       " Row(prediction=1.0, indexed=1.0, label=1.0, pcaFeatures=DenseVector([-177.0179, 27.856, -0.5317])),\n",
       " Row(prediction=0.0, indexed=1.0, label=1.0, pcaFeatures=DenseVector([-174.0263, 40.8779, -0.4976])),\n",
       " Row(prediction=0.0, indexed=1.0, label=1.0, pcaFeatures=DenseVector([-145.0353, 54.9092, 0.0555])),\n",
       " Row(prediction=1.0, indexed=1.0, label=1.0, pcaFeatures=DenseVector([-119.0154, 23.894, -0.4651])),\n",
       " Row(prediction=1.0, indexed=1.0, label=1.0, pcaFeatures=DenseVector([-37.0238, 36.9436, 0.9232])),\n",
       " Row(prediction=0.0, indexed=1.0, label=1.0, pcaFeatures=DenseVector([-0.0308, 47.9977, -0.0521])),\n",
       " Row(prediction=0.0, indexed=1.0, label=1.0, pcaFeatures=DenseVector([-0.0289, 44.9644, -0.3838])),\n",
       " Row(prediction=0.0, indexed=1.0, label=1.0, pcaFeatures=DenseVector([-0.0276, 42.9947, -0.8704])),\n",
       " Row(prediction=1.0, indexed=1.0, label=1.0, pcaFeatures=DenseVector([-0.0205, 31.9682, -0.433])),\n",
       " Row(prediction=0.0, indexed=0.0, label=0.0, pcaFeatures=DenseVector([-7685.0235, 34.0724, -0.1228])),\n",
       " Row(prediction=0.0, indexed=0.0, label=0.0, pcaFeatures=DenseVector([-6613.0295, 43.7473, 0.4639])),\n",
       " Row(prediction=1.0, indexed=0.0, label=0.0, pcaFeatures=DenseVector([-6101.0225, 33.0499, 0.8285])),\n",
       " Row(prediction=1.0, indexed=0.0, label=0.0, pcaFeatures=DenseVector([-4943.0208, 30.7941, -0.5835])),\n",
       " Row(prediction=1.0, indexed=0.0, label=0.0, pcaFeatures=DenseVector([-4515.0216, 32.0929, 0.7498])),\n",
       " Row(prediction=0.0, indexed=0.0, label=0.0, pcaFeatures=DenseVector([-4380.0331, 50.1791, -0.8202])),\n",
       " Row(prediction=1.0, indexed=0.0, label=0.0, pcaFeatures=DenseVector([-3825.0159, 23.5438, 0.4243])),\n",
       " Row(prediction=0.0, indexed=0.0, label=0.0, pcaFeatures=DenseVector([-3705.0243, 36.628, -0.0606])),\n",
       " Row(prediction=0.0, indexed=0.0, label=0.0, pcaFeatures=DenseVector([-3455.0288, 43.7698, -0.53])),\n",
       " Row(prediction=0.0, indexed=0.0, label=0.0, pcaFeatures=DenseVector([-2366.0201, 30.4783, -0.8681])),\n",
       " Row(prediction=1.0, indexed=0.0, label=0.0, pcaFeatures=DenseVector([-2070.0195, 29.6393, -0.4691])),\n",
       " Row(prediction=0.0, indexed=0.0, label=0.0, pcaFeatures=DenseVector([-2039.031, 47.6834, -0.7987])),\n",
       " Row(prediction=0.0, indexed=0.0, label=0.0, pcaFeatures=DenseVector([-1602.0363, 55.9623, 0.5762])),\n",
       " Row(prediction=0.0, indexed=0.0, label=0.0, pcaFeatures=DenseVector([-1480.0344, 53.0409, -0.7711])),\n",
       " Row(prediction=0.0, indexed=0.0, label=0.0, pcaFeatures=DenseVector([-1287.0222, 34.1702, -0.8399])),\n",
       " Row(prediction=0.0, indexed=0.0, label=0.0, pcaFeatures=DenseVector([-1187.0351, 54.2108, 0.4374])),\n",
       " Row(prediction=0.0, indexed=0.0, label=0.0, pcaFeatures=DenseVector([-1147.0241, 37.2711, -0.1052])),\n",
       " Row(prediction=0.0, indexed=0.0, label=0.0, pcaFeatures=DenseVector([-1084.0402, 62.304, 0.0711])),\n",
       " Row(prediction=0.0, indexed=0.0, label=0.0, pcaFeatures=DenseVector([-1060.03, 46.3125, -0.791])),\n",
       " Row(prediction=0.0, indexed=0.0, label=0.0, pcaFeatures=DenseVector([-999.0287, 44.3344, 0.4026])),\n",
       " Row(prediction=1.0, indexed=0.0, label=0.0, pcaFeatures=DenseVector([-991.021, 32.3556, -0.5406])),\n",
       " Row(prediction=0.0, indexed=0.0, label=0.0, pcaFeatures=DenseVector([-887.0319, 49.4228, -0.777])),\n",
       " Row(prediction=0.0, indexed=0.0, label=0.0, pcaFeatures=DenseVector([-820.0204, 31.4716, 0.4939])),\n",
       " Row(prediction=0.0, indexed=0.0, label=0.0, pcaFeatures=DenseVector([-715.0236, 36.5125, 0.2934])),\n",
       " Row(prediction=0.0, indexed=0.0, label=0.0, pcaFeatures=DenseVector([-691.0217, 33.5542, 0.4227])),\n",
       " Row(prediction=1.0, indexed=0.0, label=0.0, pcaFeatures=DenseVector([-663.0217, 33.5419, -0.4358])),\n",
       " Row(prediction=0.0, indexed=0.0, label=0.0, pcaFeatures=DenseVector([-644.023, 35.5828, -0.8261])),\n",
       " Row(prediction=0.0, indexed=0.0, label=0.0, pcaFeatures=DenseVector([-641.0256, 39.5543, -0.4127])),\n",
       " Row(prediction=0.0, indexed=0.0, label=0.0, pcaFeatures=DenseVector([-605.0243, 37.6079, 0.52])),\n",
       " Row(prediction=0.0, indexed=0.0, label=0.0, pcaFeatures=DenseVector([-559.0352, 54.6368, -0.0343])),\n",
       " Row(prediction=0.0, indexed=0.0, label=0.0, pcaFeatures=DenseVector([-524.0224, 34.6602, -0.828])),\n",
       " Row(prediction=0.0, indexed=0.0, label=0.0, pcaFeatures=DenseVector([-452.0365, 56.7115, 0.0583])),\n",
       " Row(prediction=0.0, indexed=0.0, label=0.0, pcaFeatures=DenseVector([-428.0262, 40.6908, -0.4056])),\n",
       " Row(prediction=0.0, indexed=0.0, label=0.0, pcaFeatures=DenseVector([-395.032, 49.7501, 0.0327])),\n",
       " Row(prediction=0.0, indexed=0.0, label=0.0, pcaFeatures=DenseVector([-296.0198, 30.8077, -0.8395])),\n",
       " Row(prediction=0.0, indexed=0.0, label=0.0, pcaFeatures=DenseVector([-276.032, 49.8269, -0.0462])),\n",
       " Row(prediction=0.0, indexed=0.0, label=0.0, pcaFeatures=DenseVector([-271.0295, 45.8194, -0.7824])),\n",
       " Row(prediction=0.0, indexed=0.0, label=0.0, pcaFeatures=DenseVector([-260.0256, 39.8282, -0.8049])),\n",
       " Row(prediction=0.0, indexed=0.0, label=0.0, pcaFeatures=DenseVector([-237.0359, 55.8091, -0.346])),\n",
       " Row(prediction=0.0, indexed=0.0, label=0.0, pcaFeatures=DenseVector([-233.0301, 46.855, 0.0239])),\n",
       " Row(prediction=1.0, indexed=0.0, label=0.0, pcaFeatures=DenseVector([-228.0218, 33.8218, 0.9089])),\n",
       " Row(prediction=0.0, indexed=0.0, label=0.0, pcaFeatures=DenseVector([-217.0359, 55.8523, 0.5132])),\n",
       " Row(prediction=0.0, indexed=0.0, label=0.0, pcaFeatures=DenseVector([-214.0301, 46.8676, -0.0566])),\n",
       " Row(prediction=0.0, indexed=0.0, label=0.0, pcaFeatures=DenseVector([-205.0359, 55.8593, -0.8245])),\n",
       " Row(prediction=0.0, indexed=0.0, label=0.0, pcaFeatures=DenseVector([-182.0295, 45.8766, -0.7811])),\n",
       " Row(prediction=0.0, indexed=0.0, label=0.0, pcaFeatures=DenseVector([-149.0308, 47.8972, -0.773])),\n",
       " Row(prediction=0.0, indexed=0.0, label=0.0, pcaFeatures=DenseVector([-136.0353, 54.915, 0.0557])),\n",
       " Row(prediction=1.0, indexed=0.0, label=0.0, pcaFeatures=DenseVector([-121.0237, 36.9183, -0.8141])),\n",
       " Row(prediction=0.0, indexed=0.0, label=0.0, pcaFeatures=DenseVector([-117.0269, 41.9195, -0.7952])),\n",
       " Row(prediction=0.0, indexed=0.0, label=0.0, pcaFeatures=DenseVector([-109.0225, 34.9266, -0.8215])),\n",
       " Row(prediction=0.0, indexed=0.0, label=0.0, pcaFeatures=DenseVector([-108.0308, 47.9189, 0.8678])),\n",
       " Row(prediction=0.0, indexed=0.0, label=0.0, pcaFeatures=DenseVector([-76.0372, 57.9527, 0.068])),\n",
       " Row(prediction=1.0, indexed=0.0, label=0.0, pcaFeatures=DenseVector([-63.0167, 25.9294, -0.4566])),\n",
       " Row(prediction=0.0, indexed=0.0, label=0.0, pcaFeatures=DenseVector([-55.0347, 53.9565, 0.589])),\n",
       " Row(prediction=1.0, indexed=0.0, label=0.0, pcaFeatures=DenseVector([-32.0225, 34.9773, 0.5337])),\n",
       " Row(prediction=0.0, indexed=0.0, label=0.0, pcaFeatures=DenseVector([-20.0186, 28.9861, 0.4951])),\n",
       " Row(prediction=0.0, indexed=0.0, label=0.0, pcaFeatures=DenseVector([-15.0244, 37.9867, -0.7926])),\n",
       " Row(prediction=0.0, indexed=0.0, label=0.0, pcaFeatures=DenseVector([-2.0302, 46.9919, -0.7745])),\n",
       " Row(prediction=0.0, indexed=0.0, label=0.0, pcaFeatures=DenseVector([-2.0276, 42.994, 0.4674])),\n",
       " Row(prediction=0.0, indexed=0.0, label=0.0, pcaFeatures=DenseVector([-2.0251, 38.9948, 0.5332])),\n",
       " Row(prediction=0.0, indexed=0.0, label=0.0, pcaFeatures=DenseVector([-0.034, 52.9865, -0.5304])),\n",
       " Row(prediction=0.0, indexed=0.0, label=0.0, pcaFeatures=DenseVector([-0.0289, 44.9891, 0.8581])),\n",
       " Row(prediction=0.0, indexed=0.0, label=0.0, pcaFeatures=DenseVector([-0.0282, 43.9944, -0.8666])),\n",
       " Row(prediction=0.0, indexed=0.0, label=0.0, pcaFeatures=DenseVector([-0.027, 41.9952, 0.5445])),\n",
       " Row(prediction=1.0, indexed=0.0, label=0.0, pcaFeatures=DenseVector([66.9762, 37.0391, -0.8112])),\n",
       " Row(prediction=1.0, indexed=0.0, label=0.0, pcaFeatures=DenseVector([194.9788, 33.1339, -0.0223])),\n",
       " Row(prediction=1.0, indexed=0.0, label=0.0, pcaFeatures=DenseVector([284.9691, 48.1883, -0.0289])),\n",
       " Row(prediction=1.0, indexed=0.0, label=0.0, pcaFeatures=DenseVector([378.9672, 51.2354, -0.7534])),\n",
       " Row(prediction=0.0, indexed=0.0, label=0.0, pcaFeatures=DenseVector([380.9768, 36.2416, 0.5278])),\n",
       " Row(prediction=1.0, indexed=0.0, label=0.0, pcaFeatures=DenseVector([401.9774, 35.2495, -0.5113])),\n",
       " Row(prediction=0.0, indexed=1.0, label=1.0, pcaFeatures=DenseVector([-11262.0362, 52.7403, 0.2989])),\n",
       " Row(prediction=0.0, indexed=1.0, label=1.0, pcaFeatures=DenseVector([-8545.0297, 43.5063, -0.9812])),\n",
       " Row(prediction=1.0, indexed=1.0, label=1.0, pcaFeatures=DenseVector([-6699.0198, 28.6958, -0.932])),\n",
       " Row(prediction=0.0, indexed=1.0, label=1.0, pcaFeatures=DenseVector([-3950.0255, 38.4299, 0.8772])),\n",
       " Row(prediction=1.0, indexed=1.0, label=1.0, pcaFeatures=DenseVector([-1410.0209, 32.0632, 0.8866])),\n",
       " Row(prediction=0.0, indexed=1.0, label=1.0, pcaFeatures=DenseVector([-889.0204, 31.4267, -0.845])),\n",
       " Row(prediction=1.0, indexed=1.0, label=1.0, pcaFeatures=DenseVector([-780.0146, 22.4699, -0.4792])),\n",
       " Row(prediction=0.0, indexed=1.0, label=1.0, pcaFeatures=DenseVector([-759.0204, 31.5101, -0.843])),\n",
       " Row(prediction=0.0, indexed=1.0, label=1.0, pcaFeatures=DenseVector([-593.0243, 37.6154, -0.8986])),\n",
       " Row(prediction=1.0, indexed=1.0, label=1.0, pcaFeatures=DenseVector([-219.0231, 35.8268, -0.5021])),\n",
       " Row(prediction=0.0, indexed=1.0, label=1.0, pcaFeatures=DenseVector([-130.0276, 42.9108, -0.7916])),\n",
       " Row(prediction=0.0, indexed=1.0, label=1.0, pcaFeatures=DenseVector([-121.0244, 37.9184, -0.8912])),\n",
       " Row(prediction=0.0, indexed=1.0, label=1.0, pcaFeatures=DenseVector([-36.0276, 42.9666, 0.85])),\n",
       " Row(prediction=0.0, indexed=1.0, label=1.0, pcaFeatures=DenseVector([-22.0295, 45.9793, -0.7786])),\n",
       " Row(prediction=0.0, indexed=1.0, label=1.0, pcaFeatures=DenseVector([-4.0321, 49.9904, 0.5747])),\n",
       " Row(prediction=0.0, indexed=1.0, label=1.0, pcaFeatures=DenseVector([-0.0347, 53.9912, -0.748])),\n",
       " Row(prediction=1.0, indexed=1.0, label=1.0, pcaFeatures=DenseVector([-0.0244, 37.9664, -0.4103]))]"
      ]
     },
     "execution_count": 38,
     "metadata": {},
     "output_type": "execute_result"
    }
   ],
   "source": [
    "predictions.select(\"prediction\", \"indexed\", \"label\", \"pcaFeatures\").collect()"
   ]
  },
  {
   "cell_type": "markdown",
   "metadata": {},
   "source": [
    "**Evaluate accuracy**"
   ]
  },
  {
   "cell_type": "code",
   "execution_count": 39,
   "metadata": {
    "collapsed": true
   },
   "outputs": [],
   "source": [
    "evaluator = MulticlassClassificationEvaluator(predictionCol=\"prediction\", labelCol=\"indexed\", metricName=\"accuracy\")"
   ]
  },
  {
   "cell_type": "code",
   "execution_count": 40,
   "metadata": {},
   "outputs": [
    {
     "data": {
      "text/plain": [
       "0.6993865030674846"
      ]
     },
     "execution_count": 40,
     "metadata": {},
     "output_type": "execute_result"
    }
   ],
   "source": [
    "evaluator.evaluate(predictions)"
   ]
  },
  {
   "cell_type": "markdown",
   "metadata": {},
   "source": [
    "**Confusion Matrix**"
   ]
  },
  {
   "cell_type": "code",
   "execution_count": 41,
   "metadata": {},
   "outputs": [
    {
     "name": "stdout",
     "output_type": "stream",
     "text": [
      "+-----+----------+-----+\n",
      "|label|prediction|count|\n",
      "+-----+----------+-----+\n",
      "|  1.0|       1.0|   29|\n",
      "|  0.0|       1.0|   22|\n",
      "|  1.0|       0.0|   27|\n",
      "|  0.0|       0.0|   85|\n",
      "+-----+----------+-----+\n",
      "\n"
     ]
    }
   ],
   "source": [
    "predictions.groupby(\"label\", \"prediction\").count().show()"
   ]
  }
 ],
 "metadata": {
  "kernelspec": {
   "display_name": "Python 3",
   "language": "python",
   "name": "python3"
  },
  "language_info": {
   "codemirror_mode": {
    "name": "ipython",
    "version": 3
   },
   "file_extension": ".py",
   "mimetype": "text/x-python",
   "name": "python",
   "nbconvert_exporter": "python",
   "pygments_lexer": "ipython3",
   "version": "3.6.3"
  }
 },
 "nbformat": 4,
 "nbformat_minor": 2
}
