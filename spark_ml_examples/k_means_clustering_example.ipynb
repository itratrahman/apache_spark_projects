{
 "cells": [
  {
   "cell_type": "markdown",
   "metadata": {},
   "source": [
    "# K Means Clustering Example"
   ]
  },
  {
   "cell_type": "markdown",
   "metadata": {},
   "source": [
    "## 1. Import spark modules"
   ]
  },
  {
   "cell_type": "code",
   "execution_count": 1,
   "metadata": {
    "collapsed": true
   },
   "outputs": [],
   "source": [
    "from pyspark.sql import SparkSession\n",
    "from pyspark.sql import Row"
   ]
  },
  {
   "cell_type": "code",
   "execution_count": 2,
   "metadata": {
    "collapsed": true
   },
   "outputs": [],
   "source": [
    "spark = SparkSession\\\n",
    "        .builder\\\n",
    "        .appName(\"PythonPi\")\\\n",
    "        .getOrCreate()"
   ]
  },
  {
   "cell_type": "markdown",
   "metadata": {},
   "source": [
    "**Setup spark configuration and create a spark context**"
   ]
  },
  {
   "cell_type": "code",
   "execution_count": 3,
   "metadata": {
    "collapsed": true
   },
   "outputs": [],
   "source": [
    "sc = spark.sparkContext"
   ]
  },
  {
   "cell_type": "markdown",
   "metadata": {},
   "source": [
    "## 2. Load the data"
   ]
  },
  {
   "cell_type": "code",
   "execution_count": 4,
   "metadata": {
    "collapsed": true
   },
   "outputs": [],
   "source": [
    "autoData = sc.textFile(\"./input/auto-data.csv\")"
   ]
  },
  {
   "cell_type": "code",
   "execution_count": 5,
   "metadata": {},
   "outputs": [
    {
     "data": {
      "text/plain": [
       "198"
      ]
     },
     "execution_count": 5,
     "metadata": {},
     "output_type": "execute_result"
    }
   ],
   "source": [
    "autoData.count()"
   ]
  },
  {
   "cell_type": "code",
   "execution_count": 6,
   "metadata": {},
   "outputs": [
    {
     "data": {
      "text/plain": [
       "./input/auto-data.csv MapPartitionsRDD[1] at textFile at <unknown>:0"
      ]
     },
     "execution_count": 6,
     "metadata": {},
     "output_type": "execute_result"
    }
   ],
   "source": [
    "autoData.cache()"
   ]
  },
  {
   "cell_type": "markdown",
   "metadata": {},
   "source": [
    "**Remove the header**"
   ]
  },
  {
   "cell_type": "code",
   "execution_count": 7,
   "metadata": {
    "collapsed": true
   },
   "outputs": [],
   "source": [
    "firstLine = autoData.first()\n",
    "dataLines = autoData.filter(lambda x: x != firstLine)"
   ]
  },
  {
   "cell_type": "code",
   "execution_count": 8,
   "metadata": {},
   "outputs": [
    {
     "data": {
      "text/plain": [
       "197"
      ]
     },
     "execution_count": 8,
     "metadata": {},
     "output_type": "execute_result"
    }
   ],
   "source": [
    "dataLines.count()"
   ]
  },
  {
   "cell_type": "markdown",
   "metadata": {},
   "source": [
    "## 3. Clean Data"
   ]
  },
  {
   "cell_type": "code",
   "execution_count": 9,
   "metadata": {
    "collapsed": true
   },
   "outputs": [],
   "source": [
    "import math\n",
    "from pyspark.ml.linalg import Vectors"
   ]
  },
  {
   "cell_type": "markdown",
   "metadata": {},
   "source": [
    "**A mapping gfunction to transform RDD rows to numeric vector**"
   ]
  },
  {
   "cell_type": "code",
   "execution_count": 10,
   "metadata": {
    "collapsed": true
   },
   "outputs": [],
   "source": [
    "def transformToNumeric(inputStr):\n",
    "    \n",
    "    attList = inputStr.split(\",\")\n",
    "    \n",
    "    doors = 1.0 if attList[3] == \"two\" else 2.0\n",
    "    body = 1.0 if attList[4] == \"sedan\" else 2.0\n",
    "    \n",
    "    values = Row(DOORS = doors,\n",
    "                 BODY = float(body),\n",
    "                 HP = float(attList[7]),\n",
    "                 RPM = float(attList[8]),\n",
    "                 MPG = float(attList[9]))\n",
    "    \n",
    "    return values"
   ]
  },
  {
   "cell_type": "markdown",
   "metadata": {},
   "source": [
    "**Transform the RDD using the mapping function**"
   ]
  },
  {
   "cell_type": "code",
   "execution_count": 11,
   "metadata": {
    "collapsed": true
   },
   "outputs": [],
   "source": [
    "autoMap = dataLines.map(transformToNumeric)"
   ]
  },
  {
   "cell_type": "code",
   "execution_count": 12,
   "metadata": {},
   "outputs": [
    {
     "data": {
      "text/plain": [
       "PythonRDD[5] at RDD at PythonRDD.scala:48"
      ]
     },
     "execution_count": 12,
     "metadata": {},
     "output_type": "execute_result"
    }
   ],
   "source": [
    "autoMap.persist()"
   ]
  },
  {
   "cell_type": "code",
   "execution_count": 13,
   "metadata": {},
   "outputs": [
    {
     "data": {
      "text/plain": [
       "[Row(BODY=2.0, DOORS=1.0, HP=69.0, MPG=31.0, RPM=4900.0),\n",
       " Row(BODY=2.0, DOORS=1.0, HP=48.0, MPG=47.0, RPM=5100.0),\n",
       " Row(BODY=2.0, DOORS=1.0, HP=68.0, MPG=30.0, RPM=5000.0),\n",
       " Row(BODY=2.0, DOORS=1.0, HP=62.0, MPG=35.0, RPM=4800.0),\n",
       " Row(BODY=2.0, DOORS=1.0, HP=68.0, MPG=37.0, RPM=5500.0),\n",
       " Row(BODY=2.0, DOORS=1.0, HP=60.0, MPG=38.0, RPM=5500.0),\n",
       " Row(BODY=1.0, DOORS=1.0, HP=69.0, MPG=31.0, RPM=5200.0),\n",
       " Row(BODY=2.0, DOORS=1.0, HP=68.0, MPG=37.0, RPM=5500.0),\n",
       " Row(BODY=2.0, DOORS=1.0, HP=68.0, MPG=37.0, RPM=5500.0),\n",
       " Row(BODY=2.0, DOORS=1.0, HP=68.0, MPG=31.0, RPM=5000.0),\n",
       " Row(BODY=2.0, DOORS=1.0, HP=68.0, MPG=31.0, RPM=5500.0),\n",
       " Row(BODY=2.0, DOORS=2.0, HP=68.0, MPG=31.0, RPM=5500.0),\n",
       " Row(BODY=2.0, DOORS=2.0, HP=68.0, MPG=31.0, RPM=5500.0),\n",
       " Row(BODY=2.0, DOORS=1.0, HP=70.0, MPG=38.0, RPM=5400.0),\n",
       " Row(BODY=2.0, DOORS=1.0, HP=62.0, MPG=31.0, RPM=4800.0),\n",
       " Row(BODY=2.0, DOORS=1.0, HP=68.0, MPG=31.0, RPM=5500.0),\n",
       " Row(BODY=2.0, DOORS=1.0, HP=58.0, MPG=49.0, RPM=4800.0),\n",
       " Row(BODY=2.0, DOORS=2.0, HP=62.0, MPG=31.0, RPM=4800.0),\n",
       " Row(BODY=2.0, DOORS=1.0, HP=76.0, MPG=30.0, RPM=6000.0),\n",
       " Row(BODY=1.0, DOORS=2.0, HP=70.0, MPG=38.0, RPM=5400.0),\n",
       " Row(BODY=1.0, DOORS=1.0, HP=69.0, MPG=31.0, RPM=5200.0),\n",
       " Row(BODY=2.0, DOORS=1.0, HP=68.0, MPG=31.0, RPM=5500.0),\n",
       " Row(BODY=1.0, DOORS=2.0, HP=68.0, MPG=31.0, RPM=5500.0),\n",
       " Row(BODY=1.0, DOORS=2.0, HP=68.0, MPG=31.0, RPM=5500.0),\n",
       " Row(BODY=1.0, DOORS=2.0, HP=68.0, MPG=31.0, RPM=5000.0),\n",
       " Row(BODY=1.0, DOORS=2.0, HP=78.0, MPG=24.0, RPM=4800.0),\n",
       " Row(BODY=2.0, DOORS=1.0, HP=68.0, MPG=31.0, RPM=5000.0),\n",
       " Row(BODY=1.0, DOORS=2.0, HP=69.0, MPG=31.0, RPM=5200.0),\n",
       " Row(BODY=2.0, DOORS=1.0, HP=76.0, MPG=31.0, RPM=6000.0),\n",
       " Row(BODY=2.0, DOORS=2.0, HP=62.0, MPG=31.0, RPM=4800.0),\n",
       " Row(BODY=1.0, DOORS=2.0, HP=70.0, MPG=30.0, RPM=4800.0),\n",
       " Row(BODY=1.0, DOORS=2.0, HP=88.0, MPG=25.0, RPM=5000.0),\n",
       " Row(BODY=2.0, DOORS=1.0, HP=73.0, MPG=26.0, RPM=4400.0),\n",
       " Row(BODY=1.0, DOORS=1.0, HP=55.0, MPG=45.0, RPM=4800.0),\n",
       " Row(BODY=1.0, DOORS=2.0, HP=82.0, MPG=32.0, RPM=4800.0),\n",
       " Row(BODY=2.0, DOORS=1.0, HP=76.0, MPG=30.0, RPM=6000.0),\n",
       " Row(BODY=2.0, DOORS=2.0, HP=70.0, MPG=30.0, RPM=4800.0),\n",
       " Row(BODY=1.0, DOORS=2.0, HP=76.0, MPG=30.0, RPM=6000.0),\n",
       " Row(BODY=2.0, DOORS=2.0, HP=76.0, MPG=30.0, RPM=6000.0),\n",
       " Row(BODY=1.0, DOORS=1.0, HP=69.0, MPG=31.0, RPM=5200.0),\n",
       " Row(BODY=2.0, DOORS=2.0, HP=69.0, MPG=31.0, RPM=5200.0),\n",
       " Row(BODY=1.0, DOORS=2.0, HP=68.0, MPG=31.0, RPM=5000.0),\n",
       " Row(BODY=2.0, DOORS=2.0, HP=82.0, MPG=28.0, RPM=4800.0),\n",
       " Row(BODY=1.0, DOORS=2.0, HP=69.0, MPG=31.0, RPM=5200.0),\n",
       " Row(BODY=2.0, DOORS=1.0, HP=73.0, MPG=26.0, RPM=4400.0),\n",
       " Row(BODY=1.0, DOORS=2.0, HP=68.0, MPG=31.0, RPM=5500.0),\n",
       " Row(BODY=1.0, DOORS=2.0, HP=68.0, MPG=31.0, RPM=5500.0),\n",
       " Row(BODY=2.0, DOORS=1.0, HP=102.0, MPG=24.0, RPM=5500.0),\n",
       " Row(BODY=1.0, DOORS=2.0, HP=70.0, MPG=38.0, RPM=4800.0),\n",
       " Row(BODY=1.0, DOORS=2.0, HP=82.0, MPG=28.0, RPM=4400.0),\n",
       " Row(BODY=1.0, DOORS=1.0, HP=52.0, MPG=37.0, RPM=4800.0),\n",
       " Row(BODY=2.0, DOORS=2.0, HP=56.0, MPG=38.0, RPM=4500.0),\n",
       " Row(BODY=2.0, DOORS=1.0, HP=69.0, MPG=31.0, RPM=5200.0),\n",
       " Row(BODY=2.0, DOORS=1.0, HP=86.0, MPG=27.0, RPM=5800.0),\n",
       " Row(BODY=2.0, DOORS=2.0, HP=62.0, MPG=27.0, RPM=4800.0),\n",
       " Row(BODY=1.0, DOORS=2.0, HP=56.0, MPG=34.0, RPM=4500.0),\n",
       " Row(BODY=2.0, DOORS=1.0, HP=102.0, MPG=24.0, RPM=5500.0),\n",
       " Row(BODY=2.0, DOORS=1.0, HP=102.0, MPG=24.0, RPM=5500.0),\n",
       " Row(BODY=1.0, DOORS=1.0, HP=85.0, MPG=27.0, RPM=5250.0),\n",
       " Row(BODY=1.0, DOORS=2.0, HP=52.0, MPG=37.0, RPM=4800.0),\n",
       " Row(BODY=2.0, DOORS=2.0, HP=69.0, MPG=31.0, RPM=5200.0),\n",
       " Row(BODY=2.0, DOORS=2.0, HP=82.0, MPG=23.0, RPM=4800.0),\n",
       " Row(BODY=1.0, DOORS=1.0, HP=70.0, MPG=29.0, RPM=4800.0),\n",
       " Row(BODY=1.0, DOORS=2.0, HP=88.0, MPG=25.0, RPM=5000.0),\n",
       " Row(BODY=1.0, DOORS=2.0, HP=85.0, MPG=27.0, RPM=5250.0),\n",
       " Row(BODY=2.0, DOORS=1.0, HP=70.0, MPG=29.0, RPM=4800.0),\n",
       " Row(BODY=2.0, DOORS=1.0, HP=69.0, MPG=31.0, RPM=5200.0),\n",
       " Row(BODY=2.0, DOORS=2.0, HP=70.0, MPG=28.0, RPM=4800.0),\n",
       " Row(BODY=2.0, DOORS=1.0, HP=116.0, MPG=24.0, RPM=4800.0),\n",
       " Row(BODY=1.0, DOORS=2.0, HP=84.0, MPG=26.0, RPM=4800.0),\n",
       " Row(BODY=1.0, DOORS=2.0, HP=85.0, MPG=27.0, RPM=5250.0),\n",
       " Row(BODY=2.0, DOORS=1.0, HP=88.0, MPG=25.0, RPM=5000.0),\n",
       " Row(BODY=2.0, DOORS=2.0, HP=62.0, MPG=27.0, RPM=4800.0),\n",
       " Row(BODY=1.0, DOORS=2.0, HP=86.0, MPG=27.0, RPM=5800.0),\n",
       " Row(BODY=2.0, DOORS=1.0, HP=84.0, MPG=26.0, RPM=4800.0),\n",
       " Row(BODY=2.0, DOORS=2.0, HP=88.0, MPG=24.0, RPM=5000.0),\n",
       " Row(BODY=2.0, DOORS=2.0, HP=88.0, MPG=24.0, RPM=5000.0),\n",
       " Row(BODY=1.0, DOORS=2.0, HP=92.0, MPG=29.0, RPM=4200.0),\n",
       " Row(BODY=2.0, DOORS=2.0, HP=97.0, MPG=27.0, RPM=5200.0),\n",
       " Row(BODY=2.0, DOORS=1.0, HP=86.0, MPG=27.0, RPM=5800.0),\n",
       " Row(BODY=1.0, DOORS=2.0, HP=82.0, MPG=24.0, RPM=4800.0),\n",
       " Row(BODY=1.0, DOORS=2.0, HP=70.0, MPG=28.0, RPM=4800.0),\n",
       " Row(BODY=1.0, DOORS=2.0, HP=116.0, MPG=23.0, RPM=5500.0),\n",
       " Row(BODY=1.0, DOORS=2.0, HP=116.0, MPG=23.0, RPM=5500.0),\n",
       " Row(BODY=1.0, DOORS=1.0, HP=112.0, MPG=26.0, RPM=6600.0),\n",
       " Row(BODY=1.0, DOORS=2.0, HP=68.0, MPG=37.0, RPM=4500.0),\n",
       " Row(BODY=2.0, DOORS=1.0, HP=112.0, MPG=26.0, RPM=6600.0),\n",
       " Row(BODY=1.0, DOORS=2.0, HP=97.0, MPG=27.0, RPM=5200.0),\n",
       " Row(BODY=2.0, DOORS=1.0, HP=116.0, MPG=24.0, RPM=4800.0),\n",
       " Row(BODY=2.0, DOORS=1.0, HP=116.0, MPG=23.0, RPM=5500.0),\n",
       " Row(BODY=1.0, DOORS=2.0, HP=94.0, MPG=26.0, RPM=5200.0),\n",
       " Row(BODY=2.0, DOORS=1.0, HP=90.0, MPG=24.0, RPM=5500.0),\n",
       " Row(BODY=2.0, DOORS=2.0, HP=92.0, MPG=27.0, RPM=4200.0),\n",
       " Row(BODY=2.0, DOORS=1.0, HP=116.0, MPG=24.0, RPM=4800.0),\n",
       " Row(BODY=1.0, DOORS=2.0, HP=100.0, MPG=26.0, RPM=5500.0),\n",
       " Row(BODY=2.0, DOORS=2.0, HP=94.0, MPG=25.0, RPM=5200.0),\n",
       " Row(BODY=1.0, DOORS=2.0, HP=84.0, MPG=26.0, RPM=4800.0),\n",
       " Row(BODY=1.0, DOORS=2.0, HP=86.0, MPG=27.0, RPM=5800.0),\n",
       " Row(BODY=1.0, DOORS=1.0, HP=100.0, MPG=25.0, RPM=5500.0),\n",
       " Row(BODY=2.0, DOORS=1.0, HP=84.0, MPG=26.0, RPM=4800.0),\n",
       " Row(BODY=1.0, DOORS=2.0, HP=73.0, MPG=30.0, RPM=4500.0),\n",
       " Row(BODY=1.0, DOORS=2.0, HP=92.0, MPG=27.0, RPM=4200.0),\n",
       " Row(BODY=2.0, DOORS=1.0, HP=101.0, MPG=17.0, RPM=6000.0),\n",
       " Row(BODY=2.0, DOORS=1.0, HP=90.0, MPG=24.0, RPM=5000.0),\n",
       " Row(BODY=2.0, DOORS=1.0, HP=116.0, MPG=24.0, RPM=4800.0),\n",
       " Row(BODY=2.0, DOORS=2.0, HP=84.0, MPG=26.0, RPM=4800.0),\n",
       " Row(BODY=2.0, DOORS=2.0, HP=92.0, MPG=27.0, RPM=4200.0),\n",
       " Row(BODY=1.0, DOORS=2.0, HP=111.0, MPG=24.0, RPM=4800.0),\n",
       " Row(BODY=2.0, DOORS=1.0, HP=116.0, MPG=24.0, RPM=4800.0),\n",
       " Row(BODY=2.0, DOORS=1.0, HP=90.0, MPG=24.0, RPM=5500.0),\n",
       " Row(BODY=2.0, DOORS=2.0, HP=111.0, MPG=23.0, RPM=4800.0),\n",
       " Row(BODY=2.0, DOORS=1.0, HP=101.0, MPG=17.0, RPM=6000.0),\n",
       " Row(BODY=2.0, DOORS=1.0, HP=110.0, MPG=21.0, RPM=5250.0),\n",
       " Row(BODY=1.0, DOORS=2.0, HP=97.0, MPG=19.0, RPM=5000.0),\n",
       " Row(BODY=1.0, DOORS=2.0, HP=110.0, MPG=21.0, RPM=5250.0),\n",
       " Row(BODY=2.0, DOORS=2.0, HP=88.0, MPG=25.0, RPM=5500.0),\n",
       " Row(BODY=2.0, DOORS=2.0, HP=97.0, MPG=19.0, RPM=5000.0),\n",
       " Row(BODY=2.0, DOORS=1.0, HP=145.0, MPG=19.0, RPM=5000.0),\n",
       " Row(BODY=2.0, DOORS=1.0, HP=145.0, MPG=19.0, RPM=5000.0),\n",
       " Row(BODY=1.0, DOORS=2.0, HP=114.0, MPG=23.0, RPM=5400.0),\n",
       " Row(BODY=1.0, DOORS=2.0, HP=101.0, MPG=24.0, RPM=5800.0),\n",
       " Row(BODY=2.0, DOORS=1.0, HP=145.0, MPG=19.0, RPM=5000.0),\n",
       " Row(BODY=1.0, DOORS=2.0, HP=95.0, MPG=28.0, RPM=4150.0),\n",
       " Row(BODY=1.0, DOORS=2.0, HP=110.0, MPG=19.0, RPM=5500.0),\n",
       " Row(BODY=2.0, DOORS=2.0, HP=114.0, MPG=23.0, RPM=5400.0),\n",
       " Row(BODY=2.0, DOORS=1.0, HP=111.0, MPG=21.0, RPM=5000.0),\n",
       " Row(BODY=1.0, DOORS=2.0, HP=152.0, MPG=17.0, RPM=5200.0),\n",
       " Row(BODY=1.0, DOORS=2.0, HP=152.0, MPG=19.0, RPM=5200.0),\n",
       " Row(BODY=2.0, DOORS=1.0, HP=101.0, MPG=17.0, RPM=6000.0),\n",
       " Row(BODY=1.0, DOORS=2.0, HP=68.0, MPG=33.0, RPM=4500.0),\n",
       " Row(BODY=2.0, DOORS=2.0, HP=95.0, MPG=25.0, RPM=4150.0),\n",
       " Row(BODY=1.0, DOORS=2.0, HP=102.0, MPG=24.0, RPM=5500.0),\n",
       " Row(BODY=2.0, DOORS=2.0, HP=152.0, MPG=17.0, RPM=5200.0),\n",
       " Row(BODY=2.0, DOORS=1.0, HP=145.0, MPG=19.0, RPM=5000.0),\n",
       " Row(BODY=2.0, DOORS=1.0, HP=145.0, MPG=19.0, RPM=5000.0),\n",
       " Row(BODY=2.0, DOORS=1.0, HP=110.0, MPG=21.0, RPM=5250.0),\n",
       " Row(BODY=1.0, DOORS=1.0, HP=110.0, MPG=19.0, RPM=5500.0),\n",
       " Row(BODY=1.0, DOORS=2.0, HP=110.0, MPG=21.0, RPM=5250.0),\n",
       " Row(BODY=1.0, DOORS=2.0, HP=95.0, MPG=19.0, RPM=5000.0),\n",
       " Row(BODY=2.0, DOORS=1.0, HP=135.0, MPG=16.0, RPM=6000.0),\n",
       " Row(BODY=1.0, DOORS=2.0, HP=156.0, MPG=20.0, RPM=5200.0),\n",
       " Row(BODY=2.0, DOORS=2.0, HP=156.0, MPG=19.0, RPM=5200.0),\n",
       " Row(BODY=1.0, DOORS=2.0, HP=114.0, MPG=24.0, RPM=5400.0),\n",
       " Row(BODY=2.0, DOORS=1.0, HP=161.0, MPG=19.0, RPM=5200.0),\n",
       " Row(BODY=1.0, DOORS=1.0, HP=101.0, MPG=23.0, RPM=5800.0),\n",
       " Row(BODY=2.0, DOORS=1.0, HP=111.0, MPG=21.0, RPM=5000.0),\n",
       " Row(BODY=2.0, DOORS=1.0, HP=154.0, MPG=19.0, RPM=5000.0),\n",
       " Row(BODY=2.0, DOORS=1.0, HP=175.0, MPG=19.0, RPM=5000.0),\n",
       " Row(BODY=2.0, DOORS=2.0, HP=114.0, MPG=24.0, RPM=5400.0),\n",
       " Row(BODY=2.0, DOORS=1.0, HP=161.0, MPG=20.0, RPM=5200.0),\n",
       " Row(BODY=1.0, DOORS=2.0, HP=97.0, MPG=19.0, RPM=5000.0),\n",
       " Row(BODY=2.0, DOORS=2.0, HP=95.0, MPG=19.0, RPM=5000.0),\n",
       " Row(BODY=1.0, DOORS=2.0, HP=114.0, MPG=23.0, RPM=5400.0),\n",
       " Row(BODY=1.0, DOORS=2.0, HP=95.0, MPG=28.0, RPM=4150.0),\n",
       " Row(BODY=1.0, DOORS=2.0, HP=101.0, MPG=23.0, RPM=5800.0),\n",
       " Row(BODY=2.0, DOORS=2.0, HP=95.0, MPG=25.0, RPM=4150.0),\n",
       " Row(BODY=2.0, DOORS=1.0, HP=160.0, MPG=19.0, RPM=5200.0),\n",
       " Row(BODY=1.0, DOORS=2.0, HP=115.0, MPG=18.0, RPM=5500.0),\n",
       " Row(BODY=2.0, DOORS=1.0, HP=116.0, MPG=24.0, RPM=4800.0),\n",
       " Row(BODY=1.0, DOORS=2.0, HP=110.0, MPG=19.0, RPM=5500.0),\n",
       " Row(BODY=1.0, DOORS=2.0, HP=95.0, MPG=28.0, RPM=4150.0),\n",
       " Row(BODY=1.0, DOORS=2.0, HP=142.0, MPG=18.0, RPM=5600.0),\n",
       " Row(BODY=2.0, DOORS=1.0, HP=160.0, MPG=19.0, RPM=5500.0),\n",
       " Row(BODY=1.0, DOORS=2.0, HP=120.0, MPG=19.0, RPM=5000.0),\n",
       " Row(BODY=1.0, DOORS=2.0, HP=72.0, MPG=31.0, RPM=4200.0),\n",
       " Row(BODY=2.0, DOORS=1.0, HP=160.0, MPG=19.0, RPM=5200.0),\n",
       " Row(BODY=1.0, DOORS=2.0, HP=162.0, MPG=17.0, RPM=5100.0),\n",
       " Row(BODY=1.0, DOORS=2.0, HP=160.0, MPG=19.0, RPM=5500.0),\n",
       " Row(BODY=2.0, DOORS=2.0, HP=110.0, MPG=19.0, RPM=5500.0),\n",
       " Row(BODY=2.0, DOORS=2.0, HP=162.0, MPG=17.0, RPM=5100.0),\n",
       " Row(BODY=1.0, DOORS=2.0, HP=160.0, MPG=19.0, RPM=5300.0),\n",
       " Row(BODY=2.0, DOORS=1.0, HP=200.0, MPG=17.0, RPM=5200.0),\n",
       " Row(BODY=1.0, DOORS=1.0, HP=121.0, MPG=21.0, RPM=4250.0),\n",
       " Row(BODY=1.0, DOORS=2.0, HP=121.0, MPG=21.0, RPM=4250.0),\n",
       " Row(BODY=1.0, DOORS=2.0, HP=134.0, MPG=18.0, RPM=5500.0),\n",
       " Row(BODY=2.0, DOORS=1.0, HP=143.0, MPG=19.0, RPM=5500.0),\n",
       " Row(BODY=1.0, DOORS=2.0, HP=106.0, MPG=26.0, RPM=4800.0),\n",
       " Row(BODY=1.0, DOORS=2.0, HP=114.0, MPG=19.0, RPM=5400.0),\n",
       " Row(BODY=1.0, DOORS=2.0, HP=140.0, MPG=17.0, RPM=5500.0),\n",
       " Row(BODY=1.0, DOORS=2.0, HP=121.0, MPG=20.0, RPM=4250.0),\n",
       " Row(BODY=1.0, DOORS=2.0, HP=123.0, MPG=22.0, RPM=4350.0),\n",
       " Row(BODY=2.0, DOORS=1.0, HP=123.0, MPG=22.0, RPM=4350.0),\n",
       " Row(BODY=2.0, DOORS=2.0, HP=123.0, MPG=22.0, RPM=4350.0),\n",
       " Row(BODY=1.0, DOORS=2.0, HP=182.0, MPG=16.0, RPM=5400.0),\n",
       " Row(BODY=1.0, DOORS=2.0, HP=123.0, MPG=22.0, RPM=4350.0),\n",
       " Row(BODY=1.0, DOORS=2.0, HP=176.0, MPG=15.0, RPM=4750.0),\n",
       " Row(BODY=2.0, DOORS=1.0, HP=207.0, MPG=17.0, RPM=5900.0),\n",
       " Row(BODY=2.0, DOORS=1.0, HP=207.0, MPG=17.0, RPM=5900.0),\n",
       " Row(BODY=1.0, DOORS=2.0, HP=155.0, MPG=16.0, RPM=4750.0),\n",
       " Row(BODY=2.0, DOORS=1.0, HP=155.0, MPG=16.0, RPM=4750.0),\n",
       " Row(BODY=1.0, DOORS=2.0, HP=176.0, MPG=15.0, RPM=4750.0),\n",
       " Row(BODY=1.0, DOORS=1.0, HP=262.0, MPG=13.0, RPM=5000.0),\n",
       " Row(BODY=1.0, DOORS=2.0, HP=182.0, MPG=15.0, RPM=5400.0),\n",
       " Row(BODY=2.0, DOORS=1.0, HP=207.0, MPG=17.0, RPM=5900.0),\n",
       " Row(BODY=1.0, DOORS=2.0, HP=184.0, MPG=14.0, RPM=4500.0),\n",
       " Row(BODY=1.0, DOORS=1.0, HP=182.0, MPG=16.0, RPM=5400.0),\n",
       " Row(BODY=2.0, DOORS=1.0, HP=184.0, MPG=14.0, RPM=4500.0)]"
      ]
     },
     "execution_count": 13,
     "metadata": {},
     "output_type": "execute_result"
    }
   ],
   "source": [
    "autoMap.collect()"
   ]
  },
  {
   "cell_type": "markdown",
   "metadata": {},
   "source": [
    "**Create a dataframe using the RDD**"
   ]
  },
  {
   "cell_type": "code",
   "execution_count": 14,
   "metadata": {},
   "outputs": [],
   "source": [
    "autoDf = spark.createDataFrame(autoMap)"
   ]
  },
  {
   "cell_type": "code",
   "execution_count": 15,
   "metadata": {},
   "outputs": [
    {
     "name": "stdout",
     "output_type": "stream",
     "text": [
      "+----+-----+----+----+------+\n",
      "|BODY|DOORS|  HP| MPG|   RPM|\n",
      "+----+-----+----+----+------+\n",
      "| 2.0|  1.0|69.0|31.0|4900.0|\n",
      "| 2.0|  1.0|48.0|47.0|5100.0|\n",
      "| 2.0|  1.0|68.0|30.0|5000.0|\n",
      "| 2.0|  1.0|62.0|35.0|4800.0|\n",
      "| 2.0|  1.0|68.0|37.0|5500.0|\n",
      "| 2.0|  1.0|60.0|38.0|5500.0|\n",
      "| 1.0|  1.0|69.0|31.0|5200.0|\n",
      "| 2.0|  1.0|68.0|37.0|5500.0|\n",
      "| 2.0|  1.0|68.0|37.0|5500.0|\n",
      "| 2.0|  1.0|68.0|31.0|5000.0|\n",
      "| 2.0|  1.0|68.0|31.0|5500.0|\n",
      "| 2.0|  2.0|68.0|31.0|5500.0|\n",
      "| 2.0|  2.0|68.0|31.0|5500.0|\n",
      "| 2.0|  1.0|70.0|38.0|5400.0|\n",
      "| 2.0|  1.0|62.0|31.0|4800.0|\n",
      "| 2.0|  1.0|68.0|31.0|5500.0|\n",
      "| 2.0|  1.0|58.0|49.0|4800.0|\n",
      "| 2.0|  2.0|62.0|31.0|4800.0|\n",
      "| 2.0|  1.0|76.0|30.0|6000.0|\n",
      "| 1.0|  2.0|70.0|38.0|5400.0|\n",
      "+----+-----+----+----+------+\n",
      "only showing top 20 rows\n",
      "\n"
     ]
    }
   ],
   "source": [
    "autoDf.show()"
   ]
  },
  {
   "cell_type": "markdown",
   "metadata": {},
   "source": [
    "### Centre and scale the featues"
   ]
  },
  {
   "cell_type": "markdown",
   "metadata": {},
   "source": [
    "**Print out descriptive statistics**"
   ]
  },
  {
   "cell_type": "code",
   "execution_count": 16,
   "metadata": {
    "collapsed": true
   },
   "outputs": [],
   "source": [
    "summStats = autoDf.describe().toPandas()"
   ]
  },
  {
   "cell_type": "code",
   "execution_count": 17,
   "metadata": {},
   "outputs": [
    {
     "data": {
      "text/plain": [
       "['1.532994923857868',\n",
       " '1.5685279187817258',\n",
       " '103.60406091370558',\n",
       " '25.15228426395939']"
      ]
     },
     "execution_count": 17,
     "metadata": {},
     "output_type": "execute_result"
    }
   ],
   "source": [
    "meanValues = summStats.iloc[1,1:5].values.tolist()\n",
    "meanValues"
   ]
  },
  {
   "cell_type": "code",
   "execution_count": 18,
   "metadata": {},
   "outputs": [
    {
     "data": {
      "text/plain": [
       "['0.5001812579359883',\n",
       " '0.49654352778167493',\n",
       " '37.639205349518356',\n",
       " '6.437862917085915']"
      ]
     },
     "execution_count": 18,
     "metadata": {},
     "output_type": "execute_result"
    }
   ],
   "source": [
    "stdValues = summStats.iloc[2,1:5].values.tolist()\n",
    "stdValues"
   ]
  },
  {
   "cell_type": "markdown",
   "metadata": {},
   "source": [
    "**Store the mean and std values in a broadcast variable**"
   ]
  },
  {
   "cell_type": "code",
   "execution_count": 19,
   "metadata": {
    "collapsed": true
   },
   "outputs": [],
   "source": [
    "bcMeans = sc.broadcast(meanValues)\n",
    "bcStdDev = sc.broadcast(stdValues)"
   ]
  },
  {
   "cell_type": "markdown",
   "metadata": {},
   "source": [
    "**A function for centre and scaling**"
   ]
  },
  {
   "cell_type": "code",
   "execution_count": 20,
   "metadata": {
    "collapsed": true
   },
   "outputs": [],
   "source": [
    "def centerAndScale(inRow):\n",
    "    \n",
    "    '''a function for scaling'''\n",
    "    \n",
    "    global bcMeans\n",
    "    global bcStdDev\n",
    "    \n",
    "    meanArray = bcMeans.value\n",
    "    stdArray = bcStdDev.value\n",
    "    \n",
    "    retArray = []\n",
    "    # scale each featuer\n",
    "    for i in range(len(meanArray)):\n",
    "        retArray.append((float(inRow[i])-float(meanArray[i]))/float(stdArray[i]))\n",
    "        \n",
    "    return Vectors.dense(retArray)"
   ]
  },
  {
   "cell_type": "markdown",
   "metadata": {},
   "source": [
    "**Apply the mapping function**"
   ]
  },
  {
   "cell_type": "code",
   "execution_count": 21,
   "metadata": {
    "collapsed": true
   },
   "outputs": [],
   "source": [
    "csAuto = autoDf.rdd.map(centerAndScale)"
   ]
  },
  {
   "cell_type": "code",
   "execution_count": 22,
   "metadata": {},
   "outputs": [
    {
     "data": {
      "text/plain": [
       "[DenseVector([0.9337, -1.145, -0.9194, 0.9083]),\n",
       " DenseVector([0.9337, -1.145, -1.4773, 3.3936]),\n",
       " DenseVector([0.9337, -1.145, -0.9459, 0.753]),\n",
       " DenseVector([0.9337, -1.145, -1.1053, 1.5297]),\n",
       " DenseVector([0.9337, -1.145, -0.9459, 1.8403]),\n",
       " DenseVector([0.9337, -1.145, -1.1585, 1.9956]),\n",
       " DenseVector([-1.0656, -1.145, -0.9194, 0.9083]),\n",
       " DenseVector([0.9337, -1.145, -0.9459, 1.8403]),\n",
       " DenseVector([0.9337, -1.145, -0.9459, 1.8403]),\n",
       " DenseVector([0.9337, -1.145, -0.9459, 0.9083])]"
      ]
     },
     "execution_count": 22,
     "metadata": {},
     "output_type": "execute_result"
    }
   ],
   "source": [
    "csAuto.take(10)"
   ]
  },
  {
   "cell_type": "markdown",
   "metadata": {},
   "source": [
    "**Create a spark dataframe from the features column of RDD**"
   ]
  },
  {
   "cell_type": "code",
   "execution_count": 23,
   "metadata": {
    "collapsed": true
   },
   "outputs": [],
   "source": [
    "autoRows=csAuto.map(lambda f:Row(features=f))"
   ]
  },
  {
   "cell_type": "code",
   "execution_count": 24,
   "metadata": {},
   "outputs": [],
   "source": [
    "autoDF = spark.createDataFrame(autoRows)"
   ]
  },
  {
   "cell_type": "code",
   "execution_count": 25,
   "metadata": {},
   "outputs": [
    {
     "name": "stdout",
     "output_type": "stream",
     "text": [
      "+--------------------+\n",
      "|            features|\n",
      "+--------------------+\n",
      "|[0.93367168148051...|\n",
      "|[0.93367168148051...|\n",
      "|[0.93367168148051...|\n",
      "|[0.93367168148051...|\n",
      "|[0.93367168148051...|\n",
      "|[0.93367168148051...|\n",
      "|[-1.0656035495158...|\n",
      "|[0.93367168148051...|\n",
      "|[0.93367168148051...|\n",
      "|[0.93367168148051...|\n",
      "|[0.93367168148051...|\n",
      "|[0.93367168148051...|\n",
      "|[0.93367168148051...|\n",
      "|[0.93367168148051...|\n",
      "|[0.93367168148051...|\n",
      "|[0.93367168148051...|\n",
      "|[0.93367168148051...|\n",
      "|[0.93367168148051...|\n",
      "|[0.93367168148051...|\n",
      "|[-1.0656035495158...|\n",
      "+--------------------+\n",
      "only showing top 20 rows\n",
      "\n"
     ]
    }
   ],
   "source": [
    "autoDF.show()"
   ]
  },
  {
   "cell_type": "markdown",
   "metadata": {},
   "source": [
    "## 4. Perform K means clustering"
   ]
  },
  {
   "cell_type": "code",
   "execution_count": 26,
   "metadata": {
    "collapsed": true
   },
   "outputs": [],
   "source": [
    "from pyspark.ml.clustering import KMeans"
   ]
  },
  {
   "cell_type": "markdown",
   "metadata": {},
   "source": [
    "**Create and fit Model**"
   ]
  },
  {
   "cell_type": "code",
   "execution_count": 27,
   "metadata": {},
   "outputs": [],
   "source": [
    "kmeans = KMeans(k = 3, seed = 1)"
   ]
  },
  {
   "cell_type": "code",
   "execution_count": 28,
   "metadata": {},
   "outputs": [],
   "source": [
    "model = kmeans.fit(autoDF)"
   ]
  },
  {
   "cell_type": "markdown",
   "metadata": {},
   "source": [
    "**Compute predictions**"
   ]
  },
  {
   "cell_type": "code",
   "execution_count": 29,
   "metadata": {
    "collapsed": true
   },
   "outputs": [],
   "source": [
    "predictions = model.transform(autoDF)"
   ]
  },
  {
   "cell_type": "code",
   "execution_count": 30,
   "metadata": {},
   "outputs": [
    {
     "name": "stdout",
     "output_type": "stream",
     "text": [
      "+--------------------+----------+\n",
      "|            features|prediction|\n",
      "+--------------------+----------+\n",
      "|[0.93367168148051...|         1|\n",
      "|[0.93367168148051...|         1|\n",
      "|[0.93367168148051...|         1|\n",
      "|[0.93367168148051...|         1|\n",
      "|[0.93367168148051...|         1|\n",
      "|[0.93367168148051...|         1|\n",
      "|[-1.0656035495158...|         0|\n",
      "|[0.93367168148051...|         1|\n",
      "|[0.93367168148051...|         1|\n",
      "|[0.93367168148051...|         1|\n",
      "|[0.93367168148051...|         1|\n",
      "|[0.93367168148051...|         1|\n",
      "|[0.93367168148051...|         1|\n",
      "|[0.93367168148051...|         1|\n",
      "|[0.93367168148051...|         1|\n",
      "|[0.93367168148051...|         1|\n",
      "|[0.93367168148051...|         1|\n",
      "|[0.93367168148051...|         1|\n",
      "|[0.93367168148051...|         1|\n",
      "|[-1.0656035495158...|         0|\n",
      "+--------------------+----------+\n",
      "only showing top 20 rows\n",
      "\n"
     ]
    }
   ],
   "source": [
    "predictions.show()"
   ]
  },
  {
   "cell_type": "code",
   "execution_count": 31,
   "metadata": {
    "collapsed": true
   },
   "outputs": [],
   "source": [
    "import pandas as pd"
   ]
  },
  {
   "cell_type": "markdown",
   "metadata": {},
   "source": [
    "**A map function to convert the data containing dense vector into a tuples of prediction and feature elements**"
   ]
  },
  {
   "cell_type": "code",
   "execution_count": 32,
   "metadata": {
    "collapsed": true
   },
   "outputs": [],
   "source": [
    "def unstripData(instr):\n",
    "    \n",
    "    return (instr['prediction'],instr[\"features\"][0],instr[\"features\"][1], instr[\"features\"][2],instr[\"features\"][3])"
   ]
  },
  {
   "cell_type": "code",
   "execution_count": 33,
   "metadata": {},
   "outputs": [],
   "source": [
    "# unstrip the dense vector of the data using the above mapping function\n",
    "unstripped = predictions.rdd.map(unstripData)\n",
    "\n",
    "# Collect the data so that we can do a conversion to Pandas DataFrame\n",
    "predList = unstripped.collect()\n",
    "\n",
    "# create a pandas DataFrame out of the above data\n",
    "predPd = pd.DataFrame(predList)"
   ]
  },
  {
   "cell_type": "code",
   "execution_count": 34,
   "metadata": {},
   "outputs": [
    {
     "data": {
      "text/html": [
       "<div>\n",
       "<style>\n",
       "    .dataframe thead tr:only-child th {\n",
       "        text-align: right;\n",
       "    }\n",
       "\n",
       "    .dataframe thead th {\n",
       "        text-align: left;\n",
       "    }\n",
       "\n",
       "    .dataframe tbody tr th {\n",
       "        vertical-align: top;\n",
       "    }\n",
       "</style>\n",
       "<table border=\"1\" class=\"dataframe\">\n",
       "  <thead>\n",
       "    <tr style=\"text-align: right;\">\n",
       "      <th></th>\n",
       "      <th>0</th>\n",
       "      <th>1</th>\n",
       "      <th>2</th>\n",
       "      <th>3</th>\n",
       "      <th>4</th>\n",
       "    </tr>\n",
       "  </thead>\n",
       "  <tbody>\n",
       "    <tr>\n",
       "      <th>0</th>\n",
       "      <td>1</td>\n",
       "      <td>0.933672</td>\n",
       "      <td>-1.144971</td>\n",
       "      <td>-0.919362</td>\n",
       "      <td>0.908332</td>\n",
       "    </tr>\n",
       "    <tr>\n",
       "      <th>1</th>\n",
       "      <td>1</td>\n",
       "      <td>0.933672</td>\n",
       "      <td>-1.144971</td>\n",
       "      <td>-1.477291</td>\n",
       "      <td>3.393629</td>\n",
       "    </tr>\n",
       "    <tr>\n",
       "      <th>2</th>\n",
       "      <td>1</td>\n",
       "      <td>0.933672</td>\n",
       "      <td>-1.144971</td>\n",
       "      <td>-0.945930</td>\n",
       "      <td>0.753001</td>\n",
       "    </tr>\n",
       "    <tr>\n",
       "      <th>3</th>\n",
       "      <td>1</td>\n",
       "      <td>0.933672</td>\n",
       "      <td>-1.144971</td>\n",
       "      <td>-1.105338</td>\n",
       "      <td>1.529656</td>\n",
       "    </tr>\n",
       "    <tr>\n",
       "      <th>4</th>\n",
       "      <td>1</td>\n",
       "      <td>0.933672</td>\n",
       "      <td>-1.144971</td>\n",
       "      <td>-0.945930</td>\n",
       "      <td>1.840318</td>\n",
       "    </tr>\n",
       "  </tbody>\n",
       "</table>\n",
       "</div>"
      ],
      "text/plain": [
       "   0         1         2         3         4\n",
       "0  1  0.933672 -1.144971 -0.919362  0.908332\n",
       "1  1  0.933672 -1.144971 -1.477291  3.393629\n",
       "2  1  0.933672 -1.144971 -0.945930  0.753001\n",
       "3  1  0.933672 -1.144971 -1.105338  1.529656\n",
       "4  1  0.933672 -1.144971 -0.945930  1.840318"
      ]
     },
     "execution_count": 34,
     "metadata": {},
     "output_type": "execute_result"
    }
   ],
   "source": [
    "predPd.head()"
   ]
  },
  {
   "cell_type": "code",
   "execution_count": 35,
   "metadata": {},
   "outputs": [
    {
     "data": {
      "image/png": "[encoded data removed]",
      "text/plain": [
       "<matplotlib.figure.Figure at 0x1f8aea5be48>"
      ]
     },
     "metadata": {},
     "output_type": "display_data"
    }
   ],
   "source": [
    "# Import the matplotlib plot library \n",
    "import matplotlib.pylab as plt\n",
    "plt.cla()\n",
    "##scatter plot for the data\n",
    "plt.scatter(predPd[3],predPd[4], c = predPd[0])\n",
    "plt.show()"
   ]
  }
 ],
 "metadata": {
  "kernelspec": {
   "display_name": "Python 3",
   "language": "python",
   "name": "python3"
  },
  "language_info": {
   "codemirror_mode": {
    "name": "ipython",
    "version": 3
   },
   "file_extension": ".py",
   "mimetype": "text/x-python",
   "name": "python",
   "nbconvert_exporter": "python",
   "pygments_lexer": "ipython3",
   "version": "3.6.3"
  }
 },
 "nbformat": 4,
 "nbformat_minor": 2
}
